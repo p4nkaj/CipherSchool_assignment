{
 "cells": [
  {
   "cell_type": "markdown",
   "metadata": {},
   "source": [
    "## Q1.  Fib Number and Factorial using tail recursion"
   ]
  },
  {
   "cell_type": "code",
   "execution_count": 1,
   "metadata": {},
   "outputs": [
    {
     "name": "stdout",
     "output_type": "stream",
     "text": [
      "Fibonacci sequence:\n",
      "0\n",
      "1\n",
      "1\n",
      "2\n",
      "3\n",
      "5\n",
      "8\n",
      "13\n",
      "21\n",
      "34\n"
     ]
    }
   ],
   "source": [
    "def recur_fibo(n):\n",
    "   if n <= 1:\n",
    "       return n\n",
    "   else:\n",
    "       return(recur_fibo(n-1) + recur_fibo(n-2))\n",
    "\n",
    "nterms = 10\n",
    "if nterms <= 0:\n",
    "   print(\"Plese enter a positive integer\")\n",
    "else:\n",
    "   print(\"Fibonacci sequence:\")\n",
    "   for i in range(nterms):\n",
    "       print(recur_fibo(i))"
   ]
  },
  {
   "cell_type": "markdown",
   "metadata": {},
   "source": [
    "## Q2. Generate Parenthesis"
   ]
  },
  {
   "cell_type": "code",
   "execution_count": 2,
   "metadata": {},
   "outputs": [
    {
     "name": "stdout",
     "output_type": "stream",
     "text": [
      "{{{}}}\n",
      "{{}{}}\n",
      "{{}}{}\n",
      "{}{{}}\n",
      "{}{}{}\n"
     ]
    }
   ],
   "source": [
    "li=[]\n",
    "def parens(left, right, str) :\n",
    "    if (left == 0 and right == 0):\n",
    "        li.append(str)\n",
    "  \n",
    "    if (left > 0):\n",
    "        parens(left-1, right+1, str+\"{\")\n",
    "    if (right > 0):\n",
    "        parens(left, right-1, str+\"}\")\n",
    "n=3\n",
    "\n",
    "parens(n, 0, \"\")\n",
    "for i in li:\n",
    "    print(i)"
   ]
  },
  {
   "cell_type": "markdown",
   "metadata": {},
   "source": [
    "## Q3. Print all possible combinations of the mobile keyboard"
   ]
  },
  {
   "cell_type": "code",
   "execution_count": 3,
   "metadata": {},
   "outputs": [
    {
     "name": "stdout",
     "output_type": "stream",
     "text": [
      "ADG BDG CDG AEG BEG CEG AFG BFG CFG ADH BDH CDH AEH BEH CEH AFH BFH CFH ADI BDI CDI AEI BEI CEI AFI BFI CFI "
     ]
    }
   ],
   "source": [
    "def findCombinations(keypad, input, index, res=\"\"):\n",
    "    if index == -1:\n",
    "        print(res, end=' ')\n",
    "        return\n",
    "    digit = input[index]\n",
    "    length = len(keypad[digit])\n",
    "    for i in range(length):\n",
    "        findCombinations(keypad, input, index - 1, keypad[digit][i] + res)\n",
    " \n",
    " \n",
    "\n",
    "keypad = [\n",
    "\n",
    "    [],\n",
    "    [],\n",
    "    ['A', 'B', 'C'],\n",
    "    ['D', 'E', 'F'],\n",
    "    ['G', 'H', 'I'],\n",
    "    ['J', 'K', 'L'],\n",
    "    ['M', 'N', 'O'],\n",
    "    ['P', 'Q', 'R', 'S'],\n",
    "    ['T', 'U', 'V'],\n",
    "    ['W', 'X', 'Y', 'Z']\n",
    "]\n",
    "\n",
    "input = [2, 3, 4]\n",
    "findCombinations(keypad, input, len(input) - 1)"
   ]
  },
  {
   "cell_type": "markdown",
   "metadata": {},
   "source": [
    "## Q4. Count All possible Decoding "
   ]
  },
  {
   "cell_type": "code",
   "execution_count": 4,
   "metadata": {},
   "outputs": [
    {
     "name": "stdout",
     "output_type": "stream",
     "text": [
      "Count is 3\n"
     ]
    }
   ],
   "source": [
    "def total(digits, n): \n",
    "    count = [0] * (n + 1);  \n",
    "    count[0] = 1; \n",
    "    count[1] = 1; \n",
    " \n",
    "    for i in range(2, n + 1): \n",
    "        count[i] = 0;  \n",
    "        if (digits[i - 1] > '0'): \n",
    "            count[i] = count[i - 1];  \n",
    "        if (digits[i - 2] == '1' or(digits[i - 2] == '2' and digits[i - 1] < '7') ): \n",
    "            count[i] += count[i - 2]; \n",
    " \n",
    "    return count[n]; \n",
    "\n",
    "digits = \"1234\"; \n",
    "n = len(digits); \n",
    "print(\"Count is\" , \n",
    "       total(digits, n)); "
   ]
  },
  {
   "cell_type": "markdown",
   "metadata": {},
   "source": [
    "## Q5. Count Possible Paths "
   ]
  },
  {
   "cell_type": "code",
   "execution_count": 5,
   "metadata": {},
   "outputs": [
    {
     "name": "stdout",
     "output_type": "stream",
     "text": [
      "6\n"
     ]
    }
   ],
   "source": [
    "def numberOfPaths(m, n):  \n",
    "    if(m == 1 or n == 1): \n",
    "        return 1 \n",
    "    return numberOfPaths(m-1, n) + numberOfPaths(m, n-1)   \n",
    "m = 3\n",
    "n = 3\n",
    "print(numberOfPaths(m, n)) "
   ]
  },
  {
   "cell_type": "markdown",
   "metadata": {},
   "source": [
    "## Q6. Write a program to print all permutations of a given string"
   ]
  },
  {
   "cell_type": "code",
   "execution_count": 6,
   "metadata": {},
   "outputs": [
    {
     "name": "stdout",
     "output_type": "stream",
     "text": [
      "ABCD\n",
      "ABDC\n",
      "ACBD\n",
      "ACDB\n",
      "ADBC\n",
      "ADCB\n",
      "BACD\n",
      "BADC\n",
      "BCAD\n",
      "BCDA\n",
      "BDAC\n",
      "BDCA\n",
      "CABD\n",
      "CADB\n",
      "CBAD\n",
      "CBDA\n",
      "CDAB\n",
      "CDBA\n",
      "DABC\n",
      "DACB\n",
      "DBAC\n",
      "DBCA\n",
      "DCAB\n",
      "DCBA\n"
     ]
    }
   ],
   "source": [
    "from itertools import permutations \n",
    "def allPermutations(str): \n",
    "    permList = permutations(str) \n",
    "\n",
    "    for perm in list(permList): \n",
    "        print (''.join(perm)) \n",
    "\n",
    "str = 'ABCD'\n",
    "allPermutations(str) "
   ]
  },
  {
   "cell_type": "markdown",
   "metadata": {},
   "source": [
    "## Q7. Rat in the maze"
   ]
  },
  {
   "cell_type": "code",
   "execution_count": 7,
   "metadata": {},
   "outputs": [
    {
     "name": "stdout",
     "output_type": "stream",
     "text": [
      "[1, 0, 0, 0, 0]\n",
      "[1, 1, 1, 1, 0]\n",
      "[0, 0, 0, 1, 0]\n",
      "[0, 0, 0, 1, 1]\n",
      "[0, 0, 0, 0, 1]\n"
     ]
    }
   ],
   "source": [
    "SIZE = 5\n",
    "maze = [\n",
    "    [0,1,0,1,1],\n",
    "    [0,0,0,0,0],\n",
    "    [1,0,1,0,1],\n",
    "    [0,0,1,0,0],\n",
    "    [1,0,0,1,0]\n",
    "]\n",
    "solution = [[0]*SIZE for _ in range(SIZE)]\n",
    "def solvemaze(r, c):\n",
    "    if (r==SIZE-1) and (c==SIZE-1):\n",
    "        solution[r][c] = 1;\n",
    "        return True;\n",
    "    if r>=0 and c>=0 and r<SIZE and c<SIZE and solution[r][c] == 0 and maze[r][c] == 0:\n",
    "        solution[r][c] = 1\n",
    "        if solvemaze(r+1, c):\n",
    "            return True\n",
    "        if solvemaze(r, c+1):\n",
    "            return True\n",
    "        if solvemaze(r-1, c):\n",
    "            return True\n",
    "        if solvemaze(r, c-1):\n",
    "            return True\n",
    "        solution[r][c] = 0;\n",
    "        return False;\n",
    "    return 0;\n",
    "if(solvemaze(0,0)):\n",
    "    for i in solution:\n",
    "        print (i)\n",
    "else:\n",
    "    print (\"No solution\")"
   ]
  },
  {
   "cell_type": "markdown",
   "metadata": {},
   "source": [
    "## Q8. Subset sum"
   ]
  },
  {
   "cell_type": "code",
   "execution_count": 8,
   "metadata": {},
   "outputs": [
    {
     "name": "stdout",
     "output_type": "stream",
     "text": [
      "Found a subset with given sum\n"
     ]
    }
   ],
   "source": [
    "def isSubsetSum(set, n, sum) :  \n",
    "    if (sum == 0) : \n",
    "        return True\n",
    "    if (n == 0 and sum != 0) : \n",
    "        return False\n",
    "    if (set[n - 1] > sum) : \n",
    "        return isSubsetSum(set, n - 1, sum);     \n",
    "    return isSubsetSum(set, n-1, sum) or isSubsetSum(set, n-1, sum-set[n-1]) \n",
    "set = [3, 34, 4, 12, 5, 2] \n",
    "sum = 9\n",
    "n = len(set) \n",
    "if (isSubsetSum(set, n, sum) == True) : \n",
    "    print(\"Found a subset with given sum\") \n",
    "else : \n",
    "    print(\"No subset with given sum\") "
   ]
  },
  {
   "cell_type": "markdown",
   "metadata": {},
   "source": [
    "## Q9. N Queen Problem"
   ]
  },
  {
   "cell_type": "code",
   "execution_count": 15,
   "metadata": {},
   "outputs": [
    {
     "name": "stdout",
     "output_type": "stream",
     "text": [
      "['Q', 0, 0, 0, 0]\n",
      "[0, 0, 0, 0, 0]\n",
      "[0, 0, 0, 0, 0]\n",
      "[0, 0, 0, 0, 0]\n",
      "[0, 0, 0, 0, 0]\n"
     ]
    }
   ],
   "source": [
    "N = 5\n",
    "board = [[0]*N for _ in range(N)]\n",
    "\n",
    "def is_attack(i, j):\n",
    "    for k in range(0,N):\n",
    "        if board[i][k]==1 or board[k][j]==1:\n",
    "            return True\n",
    "    for k in range(0,N):\n",
    "        for l in range(0,N):\n",
    "            if (k+l==i+j) or (k-l==i-j):\n",
    "                if board[k][l]==1:\n",
    "                    return True\n",
    "    return False\n",
    "\n",
    "def N_queen(n):\n",
    "    if n==0:\n",
    "        return True\n",
    "    for i in range(0,N):\n",
    "        for j in range(0,N):\n",
    "            if (not(is_attack(i,j))) and (board[i][j]!=1):\n",
    "                board[i][j] = 'Q'\n",
    "                if N_queen(n-1)==True:\n",
    "                    return True\n",
    "                board[i][j] = 0\n",
    "\n",
    "    return False\n",
    "\n",
    "N_queen(N)\n",
    "for i in board:\n",
    "    print (i)"
   ]
  },
  {
   "cell_type": "markdown",
   "metadata": {},
   "source": [
    "## Q10. Unique paths"
   ]
  },
  {
   "cell_type": "code",
   "execution_count": 12,
   "metadata": {},
   "outputs": [
    {
     "name": "stdout",
     "output_type": "stream",
     "text": [
      "Total number of unique paths are 4\n"
     ]
    }
   ],
   "source": [
    "\n",
    "def isValidCell(x, y):\n",
    "    return not (x < 0 or y < 0 or x >= N or y >= N)\n",
    "\n",
    "\n",
    "def countPaths(maze, x, y, visited, count):\n",
    "    if x == N - 1 and y == N - 1:\n",
    "        return count + 1\n",
    "\n",
    "    visited[x][y] = True\n",
    "    if isValidCell(x, y) and maze[x][y] == 1:\n",
    "        if x + 1 < N and not visited[x + 1][y]:\n",
    "            count = countPaths(maze, x + 1, y, visited, count)\n",
    "        if x - 1 >= 0 and not visited[x - 1][y]:\n",
    "            count = countPaths(maze, x - 1, y, visited, count)\n",
    "        if y + 1 < N and not visited[x][y + 1]:\n",
    "            count = countPaths(maze, x, y + 1, visited, count)\n",
    "        if y - 1 >= 0 and not visited[x][y - 1]:\n",
    "            count = countPaths(maze, x, y - 1, visited, count)\n",
    "    visited[x][y] = False\n",
    "    return count\n",
    "\n",
    "maze = [\n",
    "    [ 1, 1, 1, 1] ,\n",
    "    [ 1, 1, 0, 1] ,\n",
    "    [ 0, 1, 0, 1] ,\n",
    "    [ 1, 1, 1, 1]\n",
    "]\n",
    "\n",
    "N = len(maze)\n",
    "count = 0\n",
    "\n",
    "visited = [[False for x in range(N)] for y in range(N)]\n",
    "count = countPaths(maze, 0, 0, visited, count)\n",
    "\n",
    "print(\"Total number of unique paths are\", count)\n"
   ]
  }
 ],
 "metadata": {
  "kernelspec": {
   "display_name": "Python 3",
   "language": "python",
   "name": "python3"
  },
  "language_info": {
   "codemirror_mode": {
    "name": "ipython",
    "version": 3
   },
   "file_extension": ".py",
   "mimetype": "text/x-python",
   "name": "python",
   "nbconvert_exporter": "python",
   "pygments_lexer": "ipython3",
   "version": "3.8.3"
  }
 },
 "nbformat": 4,
 "nbformat_minor": 4
}
