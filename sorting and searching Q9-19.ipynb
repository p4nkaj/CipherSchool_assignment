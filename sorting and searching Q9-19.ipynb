{
 "cells": [
  {
   "cell_type": "markdown",
   "metadata": {},
   "source": [
    "## Q9. K smallest Elements"
   ]
  },
  {
   "cell_type": "code",
   "execution_count": 6,
   "metadata": {},
   "outputs": [
    {
     "name": "stdout",
     "output_type": "stream",
     "text": [
      "None\n"
     ]
    }
   ],
   "source": [
    "def kthSmallest(li, l, r, k):\n",
    "    if (k > 0 and k <= r - l + 1):\n",
    "\n",
    "        pos = partition(li, l, r)\n",
    "        if (pos - l == k - 1):\n",
    "            return li[pos]\n",
    "        if (pos - l > k - 1): \n",
    "            return kthSmallest(li, l, pos - 1, k)\n",
    "        return kthSmallest(li, pos + 1, r,k - pos + l - 1)\n",
    "def partition(li, l, r):\n",
    " \n",
    "    x = li[r]\n",
    "    i = l\n",
    "    for j in range(l, r):\n",
    "        if (li[j] <= x):\n",
    "            li[i], li[j] = li[j], li[i]\n",
    "            i += 1\n",
    "    li[i], li[r] = li[r], li[i]\n",
    "    return i\n",
    "li = [12, 3, 5, 7, 4, 19, 26]\n",
    "n = len(li)\n",
    "k = 10\n",
    "print(kthSmallest(li, 0, n - 1, k))"
   ]
  },
  {
   "cell_type": "markdown",
   "metadata": {},
   "source": [
    "## Q10. Counting Inversions "
   ]
  },
  {
   "cell_type": "code",
   "execution_count": 10,
   "metadata": {},
   "outputs": [
    {
     "name": "stdout",
     "output_type": "stream",
     "text": [
      "Inversion count is 4\n"
     ]
    }
   ],
   "source": [
    "def inver(li):\n",
    " \n",
    "    inversionCount = 0\n",
    "    for i in range(len(li) - 1):\n",
    "        for j in range(i + 1, len(li)):\n",
    "            if li[i] > li[j]:\n",
    "                inversionCount = inversionCount + 1\n",
    " \n",
    "    return inversionCount\n",
    "li = [7,8,2,5,9]\n",
    "print(\"Inversion count is\", inver(li))"
   ]
  },
  {
   "cell_type": "markdown",
   "metadata": {},
   "source": [
    "## Q11. Trapping rain water"
   ]
  },
  {
   "cell_type": "code",
   "execution_count": 15,
   "metadata": {},
   "outputs": [
    {
     "name": "stdout",
     "output_type": "stream",
     "text": [
      "Total units of water trapped:  22\n"
     ]
    }
   ],
   "source": [
    "def trapped_water(elevation_map):\n",
    "    water = 0\n",
    "    n = len(elevation_map)\n",
    "    left_max = [0]*n \n",
    "    right_max = [0]*n \n",
    "    left_max[0] = elevation_map[0]\n",
    "    right_max[n-1] = elevation_map[n-1]\n",
    "    for i in range(1,n):\n",
    "        left_max[i] = max(left_max[i-1], elevation_map[i])\n",
    "    for i in range(n-2, -1, -1):\n",
    "        right_max[i] = max(right_max[i+1], elevation_map[i])\n",
    "    for i in range(n):\n",
    "        water += min(left_max[i],right_max[i]) - elevation_map[i]\n",
    "    return water\n",
    "\n",
    "\n",
    "elevation_map = [1, 2, 1, 3, 1, 2, 1, 4, 1, 0, 0, 2, 1, 4]\n",
    "print(\"Total units of water trapped: \",trapped_water(elevation_map))"
   ]
  },
  {
   "cell_type": "markdown",
   "metadata": {},
   "source": [
    "## Q12. Stock Buy Sell to Maximize Profit"
   ]
  },
  {
   "cell_type": "code",
   "execution_count": 14,
   "metadata": {},
   "outputs": [
    {
     "name": "stdout",
     "output_type": "stream",
     "text": [
      "9600\n"
     ]
    }
   ],
   "source": [
    "def maxProfit(prices):\n",
    "     \n",
    "    n = len(prices)\n",
    "    cost = 0\n",
    "    maxcost = 0\n",
    " \n",
    "    if (n == 0):\n",
    "        return 0\n",
    "    min_price = prices[0]\n",
    " \n",
    "    for i in range(n):\n",
    "        min_price = min(min_price, prices[i])\n",
    "        cost = prices[i] - min_price\n",
    "        maxcost = max(maxcost, cost)\n",
    "    return maxcost\n",
    "prices = [ 400, 10000, 845, 3567, 400, -1 ]\n",
    "\n",
    "print(maxProfit(prices))"
   ]
  },
  {
   "cell_type": "markdown",
   "metadata": {},
   "source": [
    "## Q13. Print a given matrix in the spiral form"
   ]
  },
  {
   "cell_type": "code",
   "execution_count": 17,
   "metadata": {},
   "outputs": [
    {
     "name": "stdout",
     "output_type": "stream",
     "text": [
      "1 2 3 4 5 6 12 18 17 16 15 14 13 7 8 9 10 11 "
     ]
    }
   ],
   "source": [
    "def spiralPrint(m, n, a) : \n",
    "    k = 0; l = 0\n",
    "    while (k < m and l < n) :   \n",
    "        for i in range(l, n) : \n",
    "            print(a[k][i], end = \" \") \n",
    "        k += 1\n",
    "        for i in range(k, m) : \n",
    "            print(a[i][n - 1], end = \" \") \n",
    "              \n",
    "        n -= 1\n",
    "        if ( k < m) : \n",
    "            for i in range(n - 1, (l - 1), -1) : \n",
    "                print(a[m - 1][i], end = \" \") \n",
    "            m -= 1  \n",
    "        if (l < n) : \n",
    "            for i in range(m - 1, k - 1, -1) : \n",
    "                print(a[i][l], end = \" \") \n",
    "              \n",
    "            l += 1\n",
    " \n",
    "a = [ [1, 2, 3, 4, 5, 6], \n",
    "      [7, 8, 9, 10, 11, 12], \n",
    "      [13, 14, 15, 16, 17, 18] ] \n",
    "        \n",
    "R = 3; C = 6\n",
    "spiralPrint(R, C, a) "
   ]
  },
  {
   "cell_type": "markdown",
   "metadata": {},
   "source": [
    "## Q14.  Kth smallest element in a row-wise and column-wise sorted 2D array"
   ]
  },
  {
   "cell_type": "code",
   "execution_count": 11,
   "metadata": {},
   "outputs": [
    {
     "name": "stdout",
     "output_type": "stream",
     "text": [
      "10\n"
     ]
    }
   ],
   "source": [
    "li= [[1,5,9],[10,11,13],[12,13,15]]\n",
    "k=4\n",
    "print([i for j in li for i in j][k-1])"
   ]
  },
  {
   "cell_type": "markdown",
   "metadata": {},
   "source": [
    "## Q15. Largest sum of sub array"
   ]
  },
  {
   "cell_type": "code",
   "execution_count": 12,
   "metadata": {},
   "outputs": [
    {
     "name": "stdout",
     "output_type": "stream",
     "text": [
      "7\n"
     ]
    }
   ],
   "source": [
    "def maxSubArraySum(a,size):\n",
    "     \n",
    "    max_so_far =a[0]\n",
    "    curr_max = a[0]\n",
    "     \n",
    "    for i in range(1,size):\n",
    "        curr_max = max(a[i], curr_max + a[i])\n",
    "        max_so_far = max(max_so_far,curr_max)\n",
    "         \n",
    "    return max_so_far\n",
    "a = [-2, -3, 4, -1, -2, 1, 5, -3]\n",
    "print(maxSubArraySum(a,len(a)))"
   ]
  },
  {
   "cell_type": "markdown",
   "metadata": {},
   "source": [
    "## Q16.  Minimum number of platform required"
   ]
  },
  {
   "cell_type": "code",
   "execution_count": 13,
   "metadata": {},
   "outputs": [
    {
     "name": "stdout",
     "output_type": "stream",
     "text": [
      "The minimum platforms needed is 2\n"
     ]
    }
   ],
   "source": [
    "def minPlatforms(arrival, departure):\n",
    "    arrival.sort()\n",
    "    departure.sort()\n",
    "    count = 0\n",
    "    platforms = 0\n",
    "    i = j = 0\n",
    "    while i < len(arrival):\n",
    "        if arrival[i] < departure[j]:\n",
    "            count = count + 1\n",
    "            platforms = max(platforms, count)\n",
    "            i = i + 1\n",
    "        else:\n",
    "            count = count - 1\n",
    "            j = j + 1\n",
    " \n",
    "    return platforms\n",
    " \n",
    "arrival = [2.00, 2.10, 3.00, 3.20, 3.50, 5.00]\n",
    "departure = [2.30, 3.40, 3.20, 4.30, 4.00, 5.20]\n",
    "\n",
    "print(\"The minimum platforms needed is\", minPlatforms(arrival, departure))"
   ]
  },
  {
   "cell_type": "markdown",
   "metadata": {},
   "source": [
    "## Q17. Find the missing number "
   ]
  },
  {
   "cell_type": "code",
   "execution_count": 14,
   "metadata": {},
   "outputs": [
    {
     "name": "stdout",
     "output_type": "stream",
     "text": [
      "6\n"
     ]
    }
   ],
   "source": [
    "def missingNumber( nums):\n",
    "    nums.sort()\n",
    "    high = len(nums)\n",
    "    low = 0\n",
    "    while low<high:\n",
    "        mid = low + (high-low)//2\n",
    "        if nums[mid]>mid:\n",
    "            high = mid\n",
    "        else:\n",
    "            low = mid+1\n",
    "    return low\n",
    "print(missingNumber([5,3,1,7,8,0,9,2,4]))"
   ]
  },
  {
   "cell_type": "markdown",
   "metadata": {},
   "source": [
    "## Q18. Merge two sorted array"
   ]
  },
  {
   "cell_type": "code",
   "execution_count": 31,
   "metadata": {},
   "outputs": [
    {
     "name": "stdout",
     "output_type": "stream",
     "text": [
      "[2, 3, 4, 6, 8, 9, 10]\n"
     ]
    }
   ],
   "source": [
    "li=[2,4,8,10]\n",
    "arr=[3,6,9,12]\n",
    "mrg=[]\n",
    "i=0\n",
    "j=0\n",
    "while i <(len(li) or j < len(arr)):\n",
    "    if li[i]<=arr[j]:\n",
    "        mrg.append(li[i])\n",
    "        i=i+1\n",
    "    else:\n",
    "        mrg.append(arr[j])\n",
    "        j+=1\n",
    "print(mrg)"
   ]
  },
  {
   "cell_type": "markdown",
   "metadata": {},
   "source": [
    "## Q19. Searching an element "
   ]
  },
  {
   "cell_type": "code",
   "execution_count": 32,
   "metadata": {},
   "outputs": [
    {
     "name": "stdout",
     "output_type": "stream",
     "text": [
      "5\n"
     ]
    }
   ],
   "source": [
    "def search( nums, target):\n",
    "    low = 0\n",
    "    high = len(nums)\n",
    "    while low<high:\n",
    "        mid = low + (high-low)//2\n",
    "        if nums[mid] == target:\n",
    "            return mid\n",
    "        if nums[low]<=nums[mid]:\n",
    "            if target >=nums[low] and target <nums[mid]:\n",
    "                high = mid\n",
    "            else:\n",
    "                low = mid+1\n",
    "        else:\n",
    "            if target<=nums[high-1] and target>nums[mid]:\n",
    "                low = mid+1\n",
    "            else:\n",
    "                high = mid\n",
    "    return -1\n",
    "print(search([4,5,6,7,8,0,1,2], 0))"
   ]
  }
 ],
 "metadata": {
  "kernelspec": {
   "display_name": "Python 3",
   "language": "python",
   "name": "python3"
  },
  "language_info": {
   "codemirror_mode": {
    "name": "ipython",
    "version": 3
   },
   "file_extension": ".py",
   "mimetype": "text/x-python",
   "name": "python",
   "nbconvert_exporter": "python",
   "pygments_lexer": "ipython3",
   "version": "3.8.3"
  }
 },
 "nbformat": 4,
 "nbformat_minor": 4
}
