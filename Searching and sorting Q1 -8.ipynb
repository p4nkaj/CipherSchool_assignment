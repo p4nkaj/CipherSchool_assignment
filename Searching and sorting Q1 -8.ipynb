{
 "cells": [
  {
   "cell_type": "markdown",
   "metadata": {},
   "source": [
    "## Q1. Two people meet each other"
   ]
  },
  {
   "cell_type": "code",
   "execution_count": 7,
   "metadata": {},
   "outputs": [
    {
     "name": "stdout",
     "output_type": "stream",
     "text": [
      "Yes\n"
     ]
    }
   ],
   "source": [
    "def ifMeet(d_a, d_b, v_a, v_b): \n",
    "    if (d_a < d_b and v_a <= v_b): \n",
    "        return False; \n",
    "    if (d_a > d_b and v_a >= v_b): \n",
    "        return False;  \n",
    "    if (d_a < d_b): \n",
    "        d_a, d_b = d_b,d_a \n",
    "        v_a, v_b = v_b,v_a\n",
    "    while (d_a >= d_b):  \n",
    "        if (d_a == d_b):  \n",
    "            return True; \n",
    "        d_a = d_a + v_a;  \n",
    "        d_b = d_b+ v_b;  \n",
    "    return False;  \n",
    "\n",
    "d_a = 10; \n",
    "d_b = 20; \n",
    "v_a = 20; \n",
    "v_b = 10; \n",
    "if (ifMeet(d_a, d_b,v_a, v_b)): \n",
    "    print(\"Yes\");  \n",
    "else: \n",
    "    print(\"No\"); "
   ]
  },
  {
   "cell_type": "markdown",
   "metadata": {},
   "source": [
    "## Q2.  Find Majority Element"
   ]
  },
  {
   "cell_type": "code",
   "execution_count": 12,
   "metadata": {},
   "outputs": [
    {
     "name": "stdout",
     "output_type": "stream",
     "text": [
      "3\n"
     ]
    }
   ],
   "source": [
    "def majority(li,n):\n",
    "    freq = {} \n",
    "    for item in li: \n",
    "        if (item in freq): \n",
    "            freq[item] += 1\n",
    "        else: \n",
    "            freq[item] = 1\n",
    "    return max(freq, key=freq.get) \n",
    "li=[2,3,4,3,2,3,4,3,3,4,2,3,2,2,3,2,3]\n",
    "n=len(li)\n",
    "print(majority(li,n))"
   ]
  },
  {
   "cell_type": "markdown",
   "metadata": {},
   "source": [
    "## Q3.  Find Peak Element In Array"
   ]
  },
  {
   "cell_type": "code",
   "execution_count": 19,
   "metadata": {
    "scrolled": true
   },
   "outputs": [
    {
     "name": "stdout",
     "output_type": "stream",
     "text": [
      "65\n"
     ]
    }
   ],
   "source": [
    "def peak(li, n) :\n",
    "    if (n == 1) :\n",
    "        return li[0]\n",
    "    if (li[0] >= li[1]) :\n",
    "        return 0\n",
    "    if (li[n - 1] >= li[n - 2]) :\n",
    "        return n - 1\n",
    "    for i in range(1, n - 1) :\n",
    "        if (li[i] >= li[i - 1] and li[i] >= li[i + 1]) :\n",
    "            return i\n",
    "\n",
    "li = [20,45,65,47,27]\n",
    "n = len(li)\n",
    "print(li[peak(li, n)])"
   ]
  },
  {
   "cell_type": "markdown",
   "metadata": {},
   "source": [
    "## Q4.  Search in the sorted matrix "
   ]
  },
  {
   "cell_type": "code",
   "execution_count": 28,
   "metadata": {},
   "outputs": [
    {
     "name": "stdout",
     "output_type": "stream",
     "text": [
      "No\n"
     ]
    }
   ],
   "source": [
    "def search(list_2d, n, target):\n",
    "    i = 0\n",
    "    j = n - 1\n",
    "    while ( i < n and j >= 0 ):\n",
    "        if (list_2d[i][j] == target ):\n",
    "            return 'Yes'\n",
    "        if (list_2d[i][j] > target ):\n",
    "            j -= 1\n",
    "        else: \n",
    "            i += 1\n",
    "    return 'No'\n",
    "list_2d = [ [1, 2, 3, 4],\n",
    "        [5, 6, 7, 8],\n",
    "        [9, 10, 11, 12],\n",
    "        [13, 14, 15, 16] ]\n",
    "n=len(list_2d[0])\n",
    "target= 20\n",
    "print(search(list_2d, n, target))"
   ]
  },
  {
   "cell_type": "markdown",
   "metadata": {},
   "source": [
    "## Q5. Find first and last positions of an element in a sorted arra"
   ]
  },
  {
   "cell_type": "code",
   "execution_count": 46,
   "metadata": {},
   "outputs": [
    {
     "name": "stdout",
     "output_type": "stream",
     "text": [
      "start: 3 end: 4\n"
     ]
    }
   ],
   "source": [
    "def first_last(li,n,target):\n",
    "    count=0\n",
    "    ind=0\n",
    "    for i in range(n):\n",
    "        if li[i]==target:\n",
    "            count+=1\n",
    "            ind=i\n",
    "            continue\n",
    "    print(\"start:\",ind-count+1,\"end:\",ind)\n",
    "            \n",
    "li=[2,3,4,5,5,6,6,6,7,8]\n",
    "n=len(li)\n",
    "target=5\n",
    "first_last(li,n,target)"
   ]
  },
  {
   "cell_type": "markdown",
   "metadata": {},
   "source": [
    "## Q6. C/C++ Program for Segregate 0s and 1s in an array"
   ]
  },
  {
   "cell_type": "code",
   "execution_count": 50,
   "metadata": {},
   "outputs": [
    {
     "name": "stdout",
     "output_type": "stream",
     "text": [
      "Enter the size of the list:5\n",
      "Enter the number :\n",
      "1\n",
      "2\n",
      "0\n",
      "3\n",
      "2\n",
      "[0, 1]\n"
     ]
    }
   ],
   "source": [
    "#using list comprihension\n",
    "def seprate(A):\n",
    "    n = ([i for i in A if i==0] + [i for i in A if i==1])\n",
    "    print(n)\n",
    "A=list()\n",
    "n=int(input(\"Enter the size of the list:\"))\n",
    "print(\"Enter the number :\")\n",
    "for i in range(int(n)):\n",
    "    k=int(input(\"\"))\n",
    "    A.append(int(k)) \n",
    "seprate(A)"
   ]
  },
  {
   "cell_type": "markdown",
   "metadata": {},
   "source": [
    "## Q7. Sort 0 1 2"
   ]
  },
  {
   "cell_type": "code",
   "execution_count": 48,
   "metadata": {},
   "outputs": [
    {
     "name": "stdout",
     "output_type": "stream",
     "text": [
      "[0, 0, 0, 0, 0, 1, 1, 1, 1, 2, 2, 2]\n"
     ]
    }
   ],
   "source": [
    "def swap(A, i, j):\n",
    " \n",
    "    temp = A[i]\n",
    "    A[i] = A[j]\n",
    "    A[j] = temp\n",
    "def sorting(A, end):\n",
    "    start = mid = 0\n",
    "    flag = 1\n",
    "    while mid <= end:\n",
    "        if A[mid] < flag:    # current element is 0\n",
    "            swap(A, start, mid)\n",
    "            start = start + 1\n",
    "            mid = mid + 1\n",
    "        elif A[mid] > flag: # current element is 2\n",
    "            swap(A, mid, end)\n",
    "            end = end - 1\n",
    "        else:                # current element is 1\n",
    "            mid = mid + 1\n",
    "A = [0, 1, 2, 2, 1, 0, 0, 2, 0, 1, 1, 0]\n",
    "sorting(A, len(A) - 1)\n",
    "print(A)"
   ]
  },
  {
   "cell_type": "markdown",
   "metadata": {},
   "source": [
    "## Q8. Alternative Sorting"
   ]
  },
  {
   "cell_type": "code",
   "execution_count": 49,
   "metadata": {},
   "outputs": [
    {
     "name": "stdout",
     "output_type": "stream",
     "text": [
      "36 1 26 2 6 3 5 3 5 3 "
     ]
    }
   ],
   "source": [
    "def alternateSort(li, n):\n",
    "    li.sort() \n",
    "    i = 0\n",
    "    j = n-1\n",
    "    while (i < j):\n",
    "        print(li[j], end =\" \")\n",
    "        j-=1\n",
    "        print(li[i], end =\" \") \n",
    "        i+= 1\n",
    "    if (n % 2 != 0): \n",
    "        print(li[i]) \n",
    "li = [1,2,5,3,6,36,26,3,3,5]\n",
    "n = len(li) \n",
    "alternateSort(li, n) "
   ]
  }
 ],
 "metadata": {
  "kernelspec": {
   "display_name": "Python 3",
   "language": "python",
   "name": "python3"
  },
  "language_info": {
   "codemirror_mode": {
    "name": "ipython",
    "version": 3
   },
   "file_extension": ".py",
   "mimetype": "text/x-python",
   "name": "python",
   "nbconvert_exporter": "python",
   "pygments_lexer": "ipython3",
   "version": "3.8.3"
  }
 },
 "nbformat": 4,
 "nbformat_minor": 4
}
