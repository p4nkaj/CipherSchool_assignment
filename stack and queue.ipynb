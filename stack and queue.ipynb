{
 "cells": [
  {
   "cell_type": "markdown",
   "metadata": {},
   "source": [
    "## Q1. Implement Stack And Queues using Linked List, Arrays\n"
   ]
  },
  {
   "cell_type": "code",
   "execution_count": 1,
   "metadata": {},
   "outputs": [
    {
     "name": "stdout",
     "output_type": "stream",
     "text": [
      "Inserting 1\n",
      "Inserting 2\n",
      "Inserting 3\n",
      "Top element is 3\n",
      "Removing 3\n",
      "Removing 2\n",
      "Removing 1\n",
      "The stack is empty\n"
     ]
    }
   ],
   "source": [
    "class Node:\n",
    "    def __init__(self, key, next=None):\n",
    "        self.key = key\n",
    "        self.next = next\n",
    " \n",
    " \n",
    "class Stack:\n",
    " \n",
    "    def __init__(self):\n",
    "        self.top = None\n",
    "    def push(self, x):\n",
    "        node = Node(x)\n",
    "        if node is None:\n",
    "            print(\"Heap Overflow\", end='')\n",
    "            return\n",
    "        print(\"Inserting\", x)\n",
    "        node.data = x\n",
    "        node.next = self.top\n",
    "\n",
    "        self.top = node\n",
    "\n",
    "    def isEmpty(self):\n",
    "        return self.top is None\n",
    "    def peek(self):\n",
    "        if not self.isEmpty():\n",
    "            return self.top.data\n",
    "        else:\n",
    "            print(\"The stack is empty\")\n",
    "            return -1\n",
    "    def pop(self):\n",
    "        if self.top is None:\n",
    "            print(\"Stack Underflow\", end='')\n",
    "            return\n",
    "        print(\"Removing\", self.peek())\n",
    "        self.top = self.top.next\n",
    "stack = Stack()\n",
    "\n",
    "stack.push(1)\n",
    "stack.push(2)\n",
    "stack.push(3)\n",
    "\n",
    "print(\"Top element is\", stack.peek())\n",
    "\n",
    "stack.pop()\n",
    "stack.pop()\n",
    "stack.pop()\n",
    "\n",
    "if stack.isEmpty():\n",
    "    print(\"The stack is empty\")\n",
    "else:\n",
    "    print(\"The stack is not empty\")"
   ]
  },
  {
   "cell_type": "markdown",
   "metadata": {},
   "source": [
    "## Q2. Get min elements from the stack in constant time"
   ]
  },
  {
   "cell_type": "code",
   "execution_count": 2,
   "metadata": {},
   "outputs": [
    {
     "name": "stdout",
     "output_type": "stream",
     "text": [
      "2\n"
     ]
    }
   ],
   "source": [
    "from collections import deque\n",
    "class Mini:\n",
    "    def __init__(self):\n",
    "        self.s = deque()\n",
    "        self.min = None\n",
    "    def push(self, x):\n",
    "        if not self.s:\n",
    "            self.s.append(x)\n",
    "            self.min = x\n",
    " \n",
    "        elif x > self.min:\n",
    "            self.s.append(x)\n",
    " \n",
    "        else:\n",
    "            self.s.append(2*x - self.min)\n",
    "            self.min = x\n",
    "    def pop(self):\n",
    " \n",
    "        if not self.s:\n",
    "            self.print(\"Stack Empty\")\n",
    " \n",
    "        top = self.s[-1]\n",
    "        if top < self.min:\n",
    "            self.min = 2*self.min - top\n",
    "        self.s.pop()\n",
    "    def minimum(self):\n",
    " \n",
    "        return self.min\n",
    "\n",
    "s = Mini()\n",
    "s.push(6)\n",
    "s.push(2)\n",
    "s.push(5)\n",
    "s.push(3)\n",
    "print(s.minimum())"
   ]
  },
  {
   "cell_type": "markdown",
   "metadata": {},
   "source": [
    "## Q3. Reverse the stack/queue"
   ]
  },
  {
   "cell_type": "code",
   "execution_count": 3,
   "metadata": {},
   "outputs": [
    {
     "name": "stdout",
     "output_type": "stream",
     "text": [
      "Deque object before reversal:\n",
      "deque([2, 6, 12, 20])\n",
      "Deque object after reversal:\n",
      "deque([20, 12, 6, 2])\n"
     ]
    }
   ],
   "source": [
    "from collections import deque\n",
    "elems       = (2, 6, 12, 20)\n",
    "\n",
    "de = deque(elems)\n",
    "print(\"Deque object before reversal:\")\n",
    "print(de)\n",
    "rev_de = de.reverse()\n",
    "print(\"Deque object after reversal:\")\n",
    "print(de)"
   ]
  },
  {
   "cell_type": "markdown",
   "metadata": {},
   "source": [
    "## Q4. Sort the stack/queue "
   ]
  },
  {
   "cell_type": "code",
   "execution_count": 4,
   "metadata": {},
   "outputs": [
    {
     "name": "stdout",
     "output_type": "stream",
     "text": [
      "Stack before sorting: [5, -2, 9, -7, 3]\n",
      "Stack after sorting: [-7, -2, 3, 5, 9]\n"
     ]
    }
   ],
   "source": [
    "from collections import deque\n",
    "def sortedInsert(stack, key):\n",
    "    if not stack or key > stack[-1]:\n",
    "        stack.append(key)\n",
    "        return\n",
    "    top = stack.pop()\n",
    "    sortedInsert(stack, key)\n",
    "    stack.append(top)\n",
    "def sortStack(stack):\n",
    "    if not stack:\n",
    "        return\n",
    "    top = stack.pop()\n",
    "    sortStack(stack)\n",
    "    sortedInsert(stack, top)\n",
    "A = [5, -2, 9, -7, 3]\n",
    "\n",
    "stack = deque(A)\n",
    "\n",
    "print(\"Stack before sorting:\", list(stack))\n",
    "sortStack(stack)\n",
    "print(\"Stack after sorting:\", list(stack))"
   ]
  },
  {
   "cell_type": "markdown",
   "metadata": {},
   "source": [
    "## Q5. Implement Deque"
   ]
  },
  {
   "cell_type": "code",
   "execution_count": 5,
   "metadata": {},
   "outputs": [
    {
     "name": "stdout",
     "output_type": "stream",
     "text": [
      "True\n",
      "4\n",
      "False\n",
      "8.4\n",
      "True\n"
     ]
    }
   ],
   "source": [
    "class Deque:\n",
    "    def __init__(self):\n",
    "        self.items = []\n",
    "\n",
    "    def isEmpty(self):\n",
    "        return self.items == []\n",
    "\n",
    "    def addFront(self, item):\n",
    "        self.items.append(item)\n",
    "\n",
    "    def addRear(self, item):\n",
    "        self.items.insert(0,item)\n",
    "\n",
    "    def removeFront(self):\n",
    "        return self.items.pop()\n",
    "\n",
    "    def removeRear(self):\n",
    "        return self.items.pop(0)\n",
    "\n",
    "    def size(self):\n",
    "        return len(self.items)\n",
    "d=Deque()\n",
    "print(d.isEmpty())\n",
    "d.addRear(4)\n",
    "d.addRear('dog')\n",
    "d.addFront('cat')\n",
    "d.addFront(True)\n",
    "print(d.size())\n",
    "print(d.isEmpty())\n",
    "d.addRear(8.4)\n",
    "print(d.removeRear())\n",
    "print(d.removeFront())"
   ]
  },
  {
   "cell_type": "markdown",
   "metadata": {},
   "source": [
    "## Q6. Print the largest element in every k window"
   ]
  },
  {
   "cell_type": "code",
   "execution_count": 6,
   "metadata": {},
   "outputs": [
    {
     "name": "stdout",
     "output_type": "stream",
     "text": [
      "[5, 6, 8, 8, 8, 6, 6]\n"
     ]
    }
   ],
   "source": [
    "def large( nums, k):\n",
    "    deq, n, ans = deque([0]), len(nums), []\n",
    "\n",
    "    for i in range (n):\n",
    "        while deq and deq[0] <= i - k:\n",
    "            deq.popleft()\n",
    "        while deq and nums[i] >= nums[deq[-1]] :\n",
    "            deq.pop()\n",
    "        deq.append(i)\n",
    "\n",
    "        ans.append(nums[deq[0]])\n",
    "\n",
    "    return ans[k-1:]\n",
    "k=3\n",
    "nums=[3,4,5,6,8,2,4,6,1]\n",
    "print(large(nums,k))"
   ]
  },
  {
   "cell_type": "markdown",
   "metadata": {},
   "source": [
    "## Q7. Largest Histogram"
   ]
  },
  {
   "cell_type": "code",
   "execution_count": 7,
   "metadata": {},
   "outputs": [
    {
     "name": "stdout",
     "output_type": "stream",
     "text": [
      "16\n"
     ]
    }
   ],
   "source": [
    "def largest(height):\n",
    "    increasing, area, i = [], 0, 0\n",
    "    while i <= len(height):\n",
    "        if not increasing or (i < len(height) and height[i] > height[increasing[-1]]):\n",
    "            increasing.append(i)\n",
    "            i += 1\n",
    "        else:\n",
    "            last = increasing.pop()\n",
    "            if not increasing:\n",
    "                area = max(area, height[last] * i)\n",
    "            else:\n",
    "                area = max(area, height[last] * (i - increasing[-1] - 1 ))\n",
    "    return area\n",
    "\n",
    "print(largest([4,5,7,8,3]))"
   ]
  },
  {
   "cell_type": "markdown",
   "metadata": {},
   "source": [
    "## Q8. Balanced Parenthesis"
   ]
  },
  {
   "cell_type": "code",
   "execution_count": 8,
   "metadata": {},
   "outputs": [
    {
     "name": "stdout",
     "output_type": "stream",
     "text": [
      "Balanced\n"
     ]
    }
   ],
   "source": [
    "class Stack:\n",
    "    def __init__(obj):\n",
    "        obj.element = []\n",
    "    def empty(obj) :\n",
    "        return obj.element == []\n",
    "    def push(obj, item):\n",
    "        obj.element.append(item)\n",
    "    def pop(obj):\n",
    "        return obj.element.pop()\n",
    "    def check(obj,lst):\n",
    "        d={'(':')','{':'}','[':']'}\n",
    "        for item in lst:\n",
    "            if( item == '(' or item == '{' or item == '[' ):\n",
    "                Stk.push(item)\n",
    "            elif( item == ')' or item == '}' or item == ']' ):\n",
    "                value = Stk.pop()\n",
    "                if d[value] != item :\n",
    "                    return 'Not Balanced'\n",
    "            else:\n",
    "                continue\n",
    "        if Stk.empty():\n",
    "            return 'Balanced'\n",
    "        else:\n",
    "            return 'Not Balanced'\n",
    "Stk = Stack()\n",
    "lst = '{(a+b)*(b+c)+(x/z)}'\n",
    "print(Stk.check(lst))"
   ]
  },
  {
   "cell_type": "markdown",
   "metadata": {},
   "source": [
    "## Q9.  Next Greater Element in Array"
   ]
  },
  {
   "cell_type": "code",
   "execution_count": 9,
   "metadata": {},
   "outputs": [
    {
     "name": "stdout",
     "output_type": "stream",
     "text": [
      "[5, 8, -1, 7, 7, -1]\n"
     ]
    }
   ],
   "source": [
    "from collections import deque\n",
    "def nextlargest(L):\n",
    "    result = [-1] * len(L)\n",
    "    s = deque()\n",
    "    for i in range(len(L)):\n",
    "        while s and L[s[-1]] < L[i]:\n",
    "            result[s[-1]] = L[i]\n",
    "            s.pop()\n",
    "        s.append(i)\n",
    "    return result\n",
    " \n",
    "L = [3,5,8,3,2,7]\n",
    "print(nextlargest(L))"
   ]
  },
  {
   "cell_type": "markdown",
   "metadata": {},
   "source": [
    "## Q10. Implement (stack/queue) using (queue/stack)"
   ]
  },
  {
   "cell_type": "code",
   "execution_count": 10,
   "metadata": {},
   "outputs": [
    {
     "data": {
      "text/plain": [
       "5"
      ]
     },
     "execution_count": 10,
     "metadata": {},
     "output_type": "execute_result"
    }
   ],
   "source": [
    "##stack using queue\n",
    "from collections import deque\n",
    "class Stack:\n",
    "    def __init__(self):\n",
    "        self.q1 = deque()\n",
    "        self.q2 = deque()\n",
    "    def add(self, data):\n",
    "        while len(self.q1):\n",
    "            self.q2.append(self.q1.pop())\n",
    "        self.q1.append(data)\n",
    "        while len(self.q2):\n",
    "            self.q1.append(self.q2.pop())\n",
    "    def pop(self):\n",
    "        if not self.q1:\n",
    "            print(\"Empty\")\n",
    "            exit(0)\n",
    "        front = self.q1.popleft()\n",
    "        return front\n",
    "\n",
    "keys = [1, 2, 3, 4, 5]\n",
    "s = Stack()\n",
    "for key in keys:\n",
    "    s.add(key)\n",
    "\n",
    "s.pop()\n"
   ]
  },
  {
   "cell_type": "code",
   "execution_count": 11,
   "metadata": {},
   "outputs": [
    {
     "name": "stdout",
     "output_type": "stream",
     "text": [
      "1\n",
      "2\n"
     ]
    }
   ],
   "source": [
    "## queue using stack\n",
    "from collections import deque\n",
    "class Queue:\n",
    "    def __init__(self):\n",
    "        self.s1 = deque()\n",
    "        self.s2 = deque()\n",
    "    def enqueue(self, data):\n",
    "        while len(self.s1):\n",
    "            self.s2.append(self.s1.pop())\n",
    "        self.s1.append(data)\n",
    "        while len(self.s2):\n",
    "            self.s1.append(self.s2.pop())\n",
    "    def dequeue(self):\n",
    "        if not self.s1:\n",
    "            print(\"Empty\")\n",
    "            exit(0)\n",
    "        return self.s1.pop()\n",
    "\n",
    "keys = [1, 2, 3, 4, 5]\n",
    "q = Queue()\n",
    "for key in keys:\n",
    "    q.enqueue(key)\n",
    "\n",
    "print(q.dequeue()) \n",
    "print(q.dequeue())"
   ]
  },
  {
   "cell_type": "markdown",
   "metadata": {},
   "source": [
    "## Q11. Detect Duplicate Parenthesis"
   ]
  },
  {
   "cell_type": "code",
   "execution_count": 12,
   "metadata": {},
   "outputs": [
    {
     "name": "stdout",
     "output_type": "stream",
     "text": [
      "douplicate found\n"
     ]
    }
   ],
   "source": [
    "from collections import deque\n",
    "\n",
    "def duplicate(exp):\n",
    " \n",
    "    if len(exp) <= 3:\n",
    "        return False\n",
    "    stack = deque()\n",
    "    for c in exp:\n",
    "        if c != ')':\n",
    "            stack.append(c)\n",
    "        else:\n",
    "            if stack[-1] == '(':\n",
    "                return True\n",
    "            while stack[-1] != '(':\n",
    "                stack.pop()\n",
    "            stack.pop()\n",
    "    return False\n",
    "exp = \"((x+y))\"\n",
    "\n",
    "if duplicate(exp):\n",
    "    print(\"douplicate found\")\n",
    "else:\n",
    "    print(\"no duplicate\")"
   ]
  },
  {
   "cell_type": "markdown",
   "metadata": {},
   "source": [
    "## Q12. Nearest Smaller Number in Array"
   ]
  },
  {
   "cell_type": "code",
   "execution_count": 13,
   "metadata": {},
   "outputs": [
    {
     "name": "stdout",
     "output_type": "stream",
     "text": [
      "[-1, -1, 4, -1, 2]\n"
     ]
    }
   ],
   "source": [
    "class Stack:\n",
    "    def __init__(self):\n",
    "        self.stack = []\n",
    "\n",
    "    def isEmpty(self):\n",
    "        return len(self.stack) == 0\n",
    "\n",
    "    def push(self, num):\n",
    "        self.stack.append(num)\n",
    "\n",
    "    def pop(self):\n",
    "        if self.isEmpty():\n",
    "            raise Exception('Empty')\n",
    "        return self.stack.pop()\n",
    "\n",
    "    def peek(self):\n",
    "        if self.isEmpty():\n",
    "            return None\n",
    "        return self.stack[-1]\n",
    "\n",
    "def smallest(arr):\n",
    "    stack = Stack()\n",
    "    result = []\n",
    "\n",
    "    for i in range(0, len(arr)):\n",
    "        if stack.isEmpty():\n",
    "            result.append(-1)\n",
    "            stack.push(arr[i])\n",
    "        elif not stack.isEmpty():\n",
    "            while(not stack.isEmpty() and arr[i] < stack.peek()):\n",
    "                stack.pop()\n",
    "            if stack.isEmpty():\n",
    "                result.append(-1)\n",
    "            else:\n",
    "                result.append(stack.peek())\n",
    "            stack.push(arr[i])\n",
    "        \n",
    "    return result\n",
    "\n",
    "arr = [6, 4, 10, 2, 5]\n",
    "print(smallest(arr))"
   ]
  }
 ],
 "metadata": {
  "kernelspec": {
   "display_name": "Python 3",
   "language": "python",
   "name": "python3"
  },
  "language_info": {
   "codemirror_mode": {
    "name": "ipython",
    "version": 3
   },
   "file_extension": ".py",
   "mimetype": "text/x-python",
   "name": "python",
   "nbconvert_exporter": "python",
   "pygments_lexer": "ipython3",
   "version": "3.8.3"
  }
 },
 "nbformat": 4,
 "nbformat_minor": 4
}
