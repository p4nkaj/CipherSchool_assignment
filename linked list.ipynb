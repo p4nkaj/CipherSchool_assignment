{
 "cells": [
  {
   "cell_type": "markdown",
   "metadata": {},
   "source": [
    "## Q1. Reverese a linkedlist"
   ]
  },
  {
   "cell_type": "code",
   "execution_count": 13,
   "metadata": {},
   "outputs": [
    {
     "name": "stdout",
     "output_type": "stream",
     "text": [
      "The reversed list: \n",
      "7->5->4->3->2->"
     ]
    }
   ],
   "source": [
    "class Node:\n",
    "    def __init__(self, data):\n",
    "        self.data = data\n",
    "        self.next = None\n",
    " \n",
    " \n",
    "class LinkedList:\n",
    "    def __init__(self):\n",
    "        self.head = None\n",
    "        self.last_node = None\n",
    " \n",
    "    def append(self, data):\n",
    "        if self.last_node is None:\n",
    "            self.head = Node(data)\n",
    "            self.last_node = self.head\n",
    "        else:\n",
    "            self.last_node.next = Node(data)\n",
    "            self.last_node = self.last_node.next\n",
    " \n",
    "    def display(self):\n",
    "        current = self.head\n",
    "        while current:\n",
    "            print(current.data, end = '->')\n",
    "            current = current.next\n",
    " \n",
    " \n",
    "def reverse_llist(llist):\n",
    "    before = None\n",
    "    current = llist.head\n",
    "    if current is None:\n",
    "        return\n",
    "    after = current.next\n",
    "    while after:\n",
    "        current.next = before\n",
    "        before = current\n",
    "        current = after\n",
    "        after = after.next\n",
    "    current.next = before\n",
    "    llist.head = current\n",
    " \n",
    " \n",
    "a_llist = LinkedList()\n",
    " \n",
    "data_list = [2,3,4,5,7]\n",
    "for data in data_list:\n",
    "    a_llist.append(int(data))\n",
    " \n",
    "reverse_llist(a_llist)\n",
    " \n",
    "print('The reversed list: ')\n",
    "a_llist.display()"
   ]
  },
  {
   "cell_type": "markdown",
   "metadata": {},
   "source": [
    "##  Q2. Palindrom linked list"
   ]
  },
  {
   "cell_type": "code",
   "execution_count": 20,
   "metadata": {},
   "outputs": [
    {
     "name": "stdout",
     "output_type": "stream",
     "text": [
      "The linked list is palindromic.\n"
     ]
    }
   ],
   "source": [
    "class Node:\n",
    "    def __init__(self, data):\n",
    "       self.data = data\n",
    "       self.next = None\n",
    " \n",
    " \n",
    "class LinkedList:\n",
    "    def __init__(self):\n",
    "        self.head = None\n",
    "        self.last_node = None\n",
    " \n",
    "    def append(self, data):\n",
    "        if self.last_node is None:\n",
    "            self.head = Node(data)\n",
    "            self.last_node = self.head\n",
    "        else:\n",
    "            self.last_node.next = Node(data)\n",
    "            self.last_node = self.last_node.next\n",
    " \n",
    "    def get_prev_node(self, ref_node):\n",
    "        current = self.head\n",
    "        while (current and current.next != ref_node):\n",
    "            current = current.next\n",
    "        return current\n",
    " \n",
    " \n",
    "def is_palindrome(llist):\n",
    "    start = llist.head\n",
    "    end = llist.last_node\n",
    "    while (start != end and end.next != start):\n",
    "        if start.data != end.data:\n",
    "            return False\n",
    "        start = start.next\n",
    "        end = llist.get_prev_node(end)\n",
    "    return True\n",
    " \n",
    " \n",
    "a_llist = LinkedList()\n",
    " \n",
    "data_list =[4,5,6,7,6,5,4]\n",
    "for data in data_list:\n",
    "    a_llist.append(int(data))\n",
    " \n",
    "if is_palindrome(a_llist):\n",
    "    print('The linked list is palindromic.')\n",
    "else:\n",
    "    print('The linked list is not palindromic.')"
   ]
  },
  {
   "cell_type": "markdown",
   "metadata": {},
   "source": [
    "## Q3. sum of 2 numbers in a linked list"
   ]
  },
  {
   "cell_type": "code",
   "execution_count": 22,
   "metadata": {},
   "outputs": [
    {
     "name": "stdout",
     "output_type": "stream",
     "text": [
      "6 —> 6 —> 8 —> 0 —> None\n"
     ]
    }
   ],
   "source": [
    "class Node:\n",
    "    def __init__(self, data=None, next=None):\n",
    "        self.data = data\n",
    "        self.next = next\n",
    "\n",
    "def printList(head):\n",
    " \n",
    "    ptr = head\n",
    "    while ptr:\n",
    "        print(ptr.data, end=\" —> \")\n",
    "        ptr = ptr.next\n",
    "    print(\"None\")\n",
    "def reverse(head):\n",
    "    out = None\n",
    "    current = head\n",
    "    while current:\n",
    "        next = current.next\n",
    "        current.next = out\n",
    "        out = current\n",
    "        current = next\n",
    "\n",
    "    return out\n",
    "\n",
    "def append(X, Y):\n",
    "    head = None\n",
    "    prev = None\n",
    "    carry = 0\n",
    "    while X or Y:\n",
    "        sum = 0\n",
    "        if X:\n",
    "            sum += X.data\n",
    "        if Y:\n",
    "            sum += Y.data\n",
    "        sum += carry\n",
    "        carry = sum // 10\n",
    "        sum = sum % 10\n",
    "        node = Node(sum, None)\n",
    "        if head is None:\n",
    "            prev = node\n",
    "            head = node\n",
    "        else:\n",
    "            prev.next = node\n",
    "            prev = node\n",
    "        X = X.next if X else X\n",
    "        Y = Y.next if Y else Y\n",
    " \n",
    "    if carry:\n",
    "        prev.next = Node(carry, prev.next)\n",
    " \n",
    "    return head\n",
    "def addLists(X, Y):\n",
    "    X = reverse(X)\n",
    "    Y = reverse(Y)\n",
    " \n",
    "    return reverse(append(X, Y))\n",
    " \n",
    "x = 5734\n",
    "y = 946\n",
    "X = None\n",
    "while x:\n",
    "    X = Node(x % 10, X)\n",
    "    x = x // 10\n",
    "\n",
    "Y = None\n",
    "while y:\n",
    "    Y = Node(y % 10, Y)\n",
    "    y = y // 10\n",
    "\n",
    "printList(addLists(X, Y))"
   ]
  },
  {
   "cell_type": "markdown",
   "metadata": {},
   "source": [
    "## Q4 Detecting and removing of a loop"
   ]
  },
  {
   "cell_type": "code",
   "execution_count": 1,
   "metadata": {},
   "outputs": [
    {
     "name": "stdout",
     "output_type": "stream",
     "text": [
      "2->8->3->5->10->NULL\n"
     ]
    }
   ],
   "source": [
    "class Node:\n",
    "    def __init__(self, x):\n",
    "        self.val = x\n",
    "        self.next = None\n",
    "\n",
    "def removeLoop(head: Node) -> bool:\n",
    "    # Initialize ptr1 and ptr2 to head node.\n",
    "    ptr1 = head\n",
    "    ptr2 = head\n",
    "    # Boolean to check if a loop exists in the given Linked List.\n",
    "    flag = False\n",
    "    # Traverse the Linked List.\n",
    "    while ptr2 != None and ptr2.next != None:\n",
    "        # Move ptr1 forward by one node.\n",
    "        ptr1 = ptr1.next\n",
    "        # Move ptr2 forward by two nodes.\n",
    "        ptr2 = ptr2.next.next\n",
    "        # Check if ptr1 and ptr2 meet at some node, then there is a loop in the Linked List and So make flag true and break.\n",
    "        if ptr1 == ptr2:\n",
    "            flag = True\n",
    "            break\n",
    "    # When there is a loop in the Linked List.\n",
    "    if flag:\n",
    "        # Assign head to ptr1.\n",
    "        ptr1 = head\n",
    "        # Loop until next of ptr1 and ptr2 are not equal.\n",
    "        while ptr1.next != ptr2.next:\n",
    "            ptr1 = ptr1.next\n",
    "            ptr2 = ptr2.next\n",
    "        # Make next of ptr2 i.e last node of Linked List None.\n",
    "        ptr2.next = None\n",
    "    return head\n",
    "\n",
    "head = Node(2)\n",
    "head.next = l1 = Node(8)\n",
    "l1.next = l2 = Node(3)\n",
    "l2.next = l3 = Node(5)\n",
    "l3.next = l4 = Node(10)\n",
    "l4.next = l3\n",
    "removeLoop(head)\n",
    "while head != None:\n",
    "    print(f'{head.val}->',end=\"\")\n",
    "    head = head.next;\n",
    "print(\"NULL\")"
   ]
  },
  {
   "cell_type": "markdown",
   "metadata": {},
   "source": [
    "## Q5. Intersection point in the linked list"
   ]
  },
  {
   "cell_type": "code",
   "execution_count": 28,
   "metadata": {},
   "outputs": [
    {
     "name": "stdout",
     "output_type": "stream",
     "text": [
      "The intersection point is 4\n"
     ]
    }
   ],
   "source": [
    "class Node:\n",
    "    def __init__(self, data, next=None):\n",
    "        self.data = data\n",
    "        self.next = next\n",
    "def findIntersection(first, second):\n",
    "\n",
    "    nodes = set()\n",
    "    while first:\n",
    "        nodes.add(first)\n",
    "        first = first.next\n",
    "    while second:\n",
    "        if second in nodes:\n",
    "            return second\n",
    "        second = second.next\n",
    "    return None\n",
    " \n",
    " \n",
    " \n",
    "first = None\n",
    "for i in reversed(range(1, 6)):\n",
    "    first = Node(i, first)\n",
    "second = None\n",
    "for i in reversed(range(1, 4)):\n",
    "    second = Node(i, second)\n",
    "second.next.next.next = first.next.next.next\n",
    "\n",
    "addr = findIntersection(first, second)\n",
    "if addr:\n",
    "    print(\"The intersection point is\", addr.data)\n",
    "else:\n",
    "    print(\"The lists do not intersect.\")"
   ]
  },
  {
   "cell_type": "markdown",
   "metadata": {},
   "source": [
    "## Q6. Merge k Sorted Linked Lists "
   ]
  },
  {
   "cell_type": "code",
   "execution_count": 31,
   "metadata": {},
   "outputs": [
    {
     "name": "stdout",
     "output_type": "stream",
     "text": [
      "1 —> 2 —> 3 —> 4 —> 5 —> 6 —> 7 —> 8 —> 9 —> 10 —> None\n"
     ]
    }
   ],
   "source": [
    "class Node:\n",
    "    def __init__(self, data, left=None, right=None, next=None):\n",
    "        self.data = data\n",
    "        self.left = left\n",
    "        self.right = right\n",
    "        self.next = next\n",
    "def printList(node):\n",
    " \n",
    "    while node:\n",
    "        print(node.data, end=\" —> \")\n",
    "        node = node.next\n",
    "    print(\"None\")\n",
    "def sortedMerge(a, b):\n",
    "    if a is None:\n",
    "        return b\n",
    "    elif b is None:\n",
    "        return a\n",
    "    if a.data <= b.data:\n",
    "        result = a\n",
    "        result.next = sortedMerge(a.next, b)\n",
    "    else:\n",
    "        result = b\n",
    "        result.next = sortedMerge(a, b.next)\n",
    " \n",
    "    return result\n",
    "def mergeKLists(A, k):\n",
    " \n",
    "    last = k - 1\n",
    "    while last:\n",
    "        (i, j) = (0, last)\n",
    "        while i < j:\n",
    "            A[i] = sortedMerge(A[i], A[j])\n",
    "            i = i + 1\n",
    "            j = j - 1\n",
    "\n",
    "            if i >= j:\n",
    "                last = j\n",
    " \n",
    "    return A[0] \n",
    "k = 3   \n",
    "A = [Node] * k\n",
    "\n",
    "A[0] = Node(1)\n",
    "A[0].next = Node(5)\n",
    "A[0].next.next = Node(7)\n",
    "\n",
    "A[1] = Node(2)\n",
    "A[1].next = Node(3)\n",
    "A[1].next.next = Node(6)\n",
    "A[1].next.next.next = Node(9)\n",
    "\n",
    "A[2] = Node(4)\n",
    "A[2].next = Node(8)\n",
    "A[2].next.next = Node(10)\n",
    "\n",
    "head = mergeKLists(A, k)\n",
    "printList(head)\n"
   ]
  },
  {
   "cell_type": "markdown",
   "metadata": {},
   "source": [
    "## Q8. Arrangement of Odd And Even Nodes In Linked List"
   ]
  },
  {
   "cell_type": "code",
   "execution_count": 38,
   "metadata": {},
   "outputs": [
    {
     "name": "stdout",
     "output_type": "stream",
     "text": [
      "2 —> 4 —> 6 —> 8 —> 10 —> 1 —> 3 —> 5 —> 7 —> 9 —> None\n"
     ]
    }
   ],
   "source": [
    "class Node:\n",
    "    def __init__(self, data=None, next=None):\n",
    "        self.data = data\n",
    "        self.next = next\n",
    "def printList(head):\n",
    " \n",
    "    ptr = head\n",
    "    while ptr:\n",
    "        print(ptr.data, end=\" —> \")\n",
    "        ptr = ptr.next\n",
    "    print(\"None\")\n",
    "def rearrangeEvenOdd(head):\n",
    " \n",
    "    odd = None\n",
    "    oddTail = None\n",
    " \n",
    "    even = None\n",
    "    evenTail = None\n",
    " \n",
    "    curr = head\n",
    "    while curr:\n",
    "        if curr.data & 1:\n",
    "            if odd is None:\n",
    "                odd = oddTail = curr\n",
    "            else:\n",
    "                oddTail.next = curr\n",
    "                oddTail = oddTail.next\n",
    " \n",
    "        else: \n",
    "            if even is None:\n",
    "                even = evenTail = curr\n",
    "            else:\n",
    "                evenTail.next = curr\n",
    "                evenTail = curr\n",
    " \n",
    "        curr = curr.next\n",
    "    if even:\n",
    "        head = even\n",
    "        evenTail.next = odd\n",
    "    else:\n",
    "        head = odd\n",
    "    if oddTail:\n",
    "        oddTail.next = None\n",
    " \n",
    "    return head\n",
    " \n",
    "# 1 —> 2 —> 3 —> 4 —> 5 —> 6 —> 7 —> 8 —> 9 —> 10 —> None\n",
    "head = None\n",
    "for i in reversed(range(10)):\n",
    "    head = Node(i + 1, head)\n",
    "\n",
    "head = rearrangeEvenOdd(head)\n",
    "printList(head)"
   ]
  },
  {
   "cell_type": "markdown",
   "metadata": {},
   "source": [
    "## Q8. Remove all occurrences of duplicates from a sorted Linked List"
   ]
  },
  {
   "cell_type": "code",
   "execution_count": 42,
   "metadata": {},
   "outputs": [
    {
     "name": "stdout",
     "output_type": "stream",
     "text": [
      "14 ->15 ->10 ->12 ->159 ->18 ->14 ->15 ->15 ->16 ->14 ->15 ->===============\n",
      "14 ->15 ->10 ->12 ->159 ->18 ->16 ->"
     ]
    }
   ],
   "source": [
    "class Node:\n",
    "    def __init__(self, data):\n",
    "        self.data = data\n",
    "        self.next = None\n",
    "\n",
    "class LinkedList:\n",
    "    def __init__(self):\n",
    "        self.head = None\n",
    "\n",
    "    def insert(self, data):\n",
    "        node = Node(data)\n",
    "        node.next=self.head\n",
    "        self.head = node\n",
    "\n",
    "    def printl(self):\n",
    "        current  = self.head\n",
    "        while current:\n",
    "            print(current.data,end=\" ->\")\n",
    "            current= current.next\n",
    "\n",
    "    def removeDups(self):\n",
    "        current = second = self.head\n",
    "        while current is not None:\n",
    "            while second.next is not None:   # check second.next here rather than second\n",
    "                if second.next.data == current.data:   # check second.next.data, not second.data\n",
    "                    second.next = second.next.next   # cut second.next out of the list\n",
    "                else:\n",
    "                    second = second.next   # put this line in an else, to avoid skipping items\n",
    "            current = second = current.next\n",
    "\n",
    "\n",
    "l= LinkedList()\n",
    "l.insert(15)\n",
    "l.insert(14)\n",
    "l.insert(16)\n",
    "l.insert(15)\n",
    "l.insert(15)\n",
    "l.insert(14)\n",
    "l.insert(18)\n",
    "l.insert(159)\n",
    "l.insert(12)\n",
    "l.insert(10)\n",
    "l.insert(15)\n",
    "l.insert(14)\n",
    "\n",
    "l.printl()\n",
    "l.removeDups()\n",
    "l.printl()"
   ]
  },
  {
   "cell_type": "markdown",
   "metadata": {},
   "source": [
    "## Q9.  Merge two sorted linked lists"
   ]
  },
  {
   "cell_type": "code",
   "execution_count": 44,
   "metadata": {},
   "outputs": [
    {
     "name": "stdout",
     "output_type": "stream",
     "text": [
      "1 ->2 ->3 ->4 ->5 ->6 ->7 ->8 ->"
     ]
    }
   ],
   "source": [
    "\n",
    "class Node:\n",
    "  def __init__(self, data = None, next=None): \n",
    "    self.data = data\n",
    "    self.next = next\n",
    "class LinkedList:\n",
    "  def __init__(self):  \n",
    "    self.head = None\n",
    "  \n",
    "  def insert(self, data):\n",
    "    newNode = Node(data)\n",
    "    if(self.head):\n",
    "      current = self.head\n",
    "      while(current.next):\n",
    "        current = current.next\n",
    "      current.next = newNode\n",
    "    else:\n",
    "      self.head = newNode\n",
    "  def printLL(self):\n",
    "    current = self.head\n",
    "    while(current):\n",
    "      print(current.data,end=\" ->\")\n",
    "      current = current.next\n",
    "def merge(List_1, List_2):   \n",
    "    head_ptr = temp_ptr = Node() \n",
    "\n",
    "    while List_1 or List_2:\n",
    "        if List_1 and (not List_2 or List_1.data <= List_2.data):\n",
    "            temp_ptr.next = Node(List_1.data)\n",
    "            List_1 = List_1.next\n",
    "        else:\n",
    "            temp_ptr.next = Node(List_2.data)\n",
    "            List_2 = List_2.next\n",
    "        temp_ptr = temp_ptr.next\n",
    "    return head_ptr.next\n",
    "LL1 = LinkedList()\n",
    "LL1.insert(2)\n",
    "LL1.insert(4)\n",
    "LL1.insert(6)\n",
    "LL1.insert(8)\n",
    "# Linked List with odd numbers\n",
    "LL2 = LinkedList()\n",
    "LL2.insert(1)\n",
    "LL2.insert(3)\n",
    "LL2.insert(5)\n",
    "LL2.insert(7)\n",
    "# Merge Function\n",
    "LL3 = LinkedList()\n",
    "LL3.head=merge(LL1.head, LL2.head)\n",
    "LL3.printLL()"
   ]
  },
  {
   "cell_type": "markdown",
   "metadata": {},
   "source": [
    "## Q10. Reverse Linked List in K groups "
   ]
  },
  {
   "cell_type": "code",
   "execution_count": 2,
   "metadata": {},
   "outputs": [
    {
     "name": "stdout",
     "output_type": "stream",
     "text": [
      "3 —> 2 —> 1 —> 6 —> 5 —> 4 —> 8 —> 7 —> None\n"
     ]
    }
   ],
   "source": [
    "class Node:\n",
    "    def __init__(self, data=None, next=None):\n",
    "        self.data = data\n",
    "        self.next = next\n",
    "    def print(self):\n",
    " \n",
    "        ptr = self\n",
    "        while ptr:\n",
    "            print(ptr.data, end=\" —> \")\n",
    "            ptr = ptr.next\n",
    " \n",
    "        print(\"None\")\n",
    "def reverseInGroups(head, k):\n",
    " \n",
    "    # base case\n",
    "    if head is None:\n",
    "        return None\n",
    " \n",
    "    # start with the current node\n",
    "    current = head\n",
    " \n",
    "    # reverse next `k` nodes\n",
    "    prev = None\n",
    "    count = 0\n",
    "    while current and count < k:\n",
    "        count = count + 1\n",
    "        next = current.next\n",
    "        current.next = prev\n",
    "        prev = current\n",
    "        current = next\n",
    "    head.next = reverseInGroups(current, k)\n",
    "    return prev\n",
    " \n",
    "head = None\n",
    "for i in reversed(range(8)):\n",
    "    head = Node(i + 1, head)\n",
    "\n",
    "head = reverseInGroups(head, 3)\n",
    "head.print()"
   ]
  },
  {
   "cell_type": "markdown",
   "metadata": {},
   "source": [
    "## Q11. Clone with Linked With Random Pointers"
   ]
  },
  {
   "cell_type": "code",
   "execution_count": null,
   "metadata": {},
   "outputs": [],
   "source": []
  },
  {
   "cell_type": "markdown",
   "metadata": {},
   "source": [
    "## Q12. Reorder Linked List"
   ]
  },
  {
   "cell_type": "code",
   "execution_count": 3,
   "metadata": {},
   "outputs": [
    {
     "name": "stdout",
     "output_type": "stream",
     "text": [
      "1 —> 3 —> 2 —> 5 —> 4 —> 7 —> 6 —> 8 —> 6 —> None\n"
     ]
    }
   ],
   "source": [
    "class Node:\n",
    "    def __init__(self, data=None, next=None):\n",
    "        self.data = data\n",
    "        self.next = next\n",
    "def printList(head):\n",
    " \n",
    "    ptr = head\n",
    "    while ptr:\n",
    "        print(ptr.data, end=\" —> \")\n",
    "        ptr = ptr.next\n",
    " \n",
    "    print(\"None\")\n",
    "def rearrange(head):\n",
    " \n",
    "    # empty list\n",
    "    if head is None:\n",
    "        return None\n",
    " \n",
    "    prev = head\n",
    "    curr = head.next\n",
    "    while curr:\n",
    "        if prev.data > curr.data:\n",
    "            temp = prev.data\n",
    "            prev.data = curr.data\n",
    "            curr.data = temp\n",
    "        if curr.next and curr.next.data > curr.data:\n",
    "            temp = curr.next.data\n",
    "            curr.next.data = curr.data\n",
    "            curr.data = temp\n",
    "        prev = curr.next\n",
    " \n",
    "        if curr.next is None:\n",
    "            break\n",
    " \n",
    "        curr = curr.next.next\n",
    " \n",
    "    return head\n",
    "keys = [1, 2, 3, 4, 5, 6, 7, 8, 6]\n",
    "\n",
    "head = None\n",
    "for i in reversed(range(len(keys))):\n",
    "    head = Node(keys[i], head)\n",
    "\n",
    "head = rearrange(head)\n",
    "printList(head)"
   ]
  },
  {
   "cell_type": "markdown",
   "metadata": {},
   "source": [
    "## Q13. Sort a linked list "
   ]
  },
  {
   "cell_type": "code",
   "execution_count": 12,
   "metadata": {},
   "outputs": [
    {
     "name": "stdout",
     "output_type": "stream",
     "text": [
      "Original list: \n",
      "9->7->2->5->4->\n",
      "Sorted list: \n",
      "2->4->5->7->9->\n"
     ]
    }
   ],
   "source": [
    "class Node:  \n",
    "    def __init__(self,data):  \n",
    "        self.data = data;  \n",
    "        self.next = None;  \n",
    "          \n",
    "class SortList:    \n",
    "    def __init__(self):  \n",
    "        self.head = None;  \n",
    "        self.tail = None;   \n",
    "    def addNode(self, data):    \n",
    "        newNode = Node(data);  \n",
    "  \n",
    "        if(self.head == None):    \n",
    "            self.head = newNode;  \n",
    "            self.tail = newNode;  \n",
    "        else:    \n",
    "            self.tail.next = newNode;   \n",
    "            self.tail = newNode;    \n",
    "    def sortList(self):  \n",
    "        current = self.head;  \n",
    "        index = None;  \n",
    "          \n",
    "        if(self.head == None):  \n",
    "            return;  \n",
    "        else:  \n",
    "            while(current != None):    \n",
    "                index = current.next;  \n",
    "                  \n",
    "                while(index != None):   \n",
    "                    if(current.data > index.data):  \n",
    "                        temp = current.data;  \n",
    "                        current.data = index.data;  \n",
    "                        index.data = temp;  \n",
    "                    index = index.next;  \n",
    "                current = current.next;   \n",
    "    def display(self):   \n",
    "        current = self.head;  \n",
    "        if(self.head == None):  \n",
    "            print(\"List is empty\");  \n",
    "            return;  \n",
    "        while(current != None):    \n",
    "            print(current.data,end='->'),  \n",
    "            current = current.next;  \n",
    "        print('')  \n",
    "sList = SortList();  \n",
    "  \n",
    "sList.addNode(9);  \n",
    "sList.addNode(7);  \n",
    "sList.addNode(2);  \n",
    "sList.addNode(5);  \n",
    "sList.addNode(4);    \n",
    "print(\"Original list: \");  \n",
    "sList.display();  \n",
    "  \n",
    "sList.sortList();    \n",
    "print(\"Sorted list: \");  \n",
    "sList.display();"
   ]
  },
  {
   "cell_type": "markdown",
   "metadata": {},
   "source": [
    "## Q14. Delete Node in linked List"
   ]
  },
  {
   "cell_type": "code",
   "execution_count": 14,
   "metadata": {},
   "outputs": [
    {
     "name": "stdout",
     "output_type": "stream",
     "text": [
      "Created Linked List: \n",
      " 2-> 3-> 1-> 7->\n",
      "Linked List after Deletion of 1:\n",
      " 2-> 3-> 7->"
     ]
    }
   ],
   "source": [
    "class Node:  \n",
    "    def __init__(self, data): \n",
    "        self.data = data \n",
    "        self.next = None\n",
    "class LinkedList: \n",
    " \n",
    "    def __init__(self): \n",
    "        self.head = None \n",
    "    def push(self, new_data): \n",
    "        new_node = Node(new_data) \n",
    "        new_node.next = self.head \n",
    "        self.head = new_node \n",
    "    def deleteNode(self, key):  \n",
    "        temp = self.head \n",
    "        if (temp is not None): \n",
    "            if (temp.data == key): \n",
    "                self.head = temp.next\n",
    "                temp = None\n",
    "                return\n",
    " \n",
    "        while(temp is not None): \n",
    "            if temp.data == key: \n",
    "                break\n",
    "            prev = temp \n",
    "            temp = temp.next\n",
    "\n",
    "        if(temp == None): \n",
    "            return \n",
    "        prev.next = temp.next\n",
    " \n",
    "        temp = None\n",
    "    def printList(self): \n",
    "        temp = self.head \n",
    "        while(temp): \n",
    "            print (\" %d\" %(temp.data),end=\"->\"), \n",
    "            temp = temp.next\n",
    "llist = LinkedList() \n",
    "llist.push(7) \n",
    "llist.push(1) \n",
    "llist.push(3) \n",
    "llist.push(2) \n",
    " \n",
    "print (\"Created Linked List: \")\n",
    "llist.printList() \n",
    "llist.deleteNode(1) \n",
    "print (\"\\nLinked List after Deletion of 1:\")\n",
    "llist.printList()"
   ]
  }
 ],
 "metadata": {
  "kernelspec": {
   "display_name": "Python 3",
   "language": "python",
   "name": "python3"
  },
  "language_info": {
   "codemirror_mode": {
    "name": "ipython",
    "version": 3
   },
   "file_extension": ".py",
   "mimetype": "text/x-python",
   "name": "python",
   "nbconvert_exporter": "python",
   "pygments_lexer": "ipython3",
   "version": "3.8.3"
  }
 },
 "nbformat": 4,
 "nbformat_minor": 4
}
