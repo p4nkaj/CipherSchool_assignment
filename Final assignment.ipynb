{
 "cells": [
  {
   "cell_type": "markdown",
   "metadata": {},
   "source": [
    "## Q1. Median of a stream of running integer"
   ]
  },
  {
   "cell_type": "code",
   "execution_count": 1,
   "metadata": {},
   "outputs": [
    {
     "name": "stdout",
     "output_type": "stream",
     "text": [
      "3.0\n",
      "3.5\n",
      "4.0\n",
      "4.5\n",
      "5.0\n",
      "5.5\n",
      "6.0\n"
     ]
    }
   ],
   "source": [
    "import heapq\n",
    "\n",
    "L,H=[],[]\n",
    "l=[3,4,5,6,7,8,10]\n",
    "for i in l :\n",
    "    a = i\n",
    "    if not H :\n",
    "        heapq.heappush(H,a)\n",
    "    else :\n",
    "        if len(H) > len(L) :\n",
    "            if H[0] < a :\n",
    "                b = heapq.heappushpop(H,a)\n",
    "                heapq.heappush(L,-b)\n",
    "            else :\n",
    "                heapq.heappush(L,-a)\n",
    "        else :\n",
    "            if -L[0] > a :\n",
    "                b = -heapq.heappushpop(L,-a)\n",
    "                heapq.heappush(H,b)\n",
    "            else :\n",
    "                heapq.heappush(H,a)\n",
    "    \n",
    "    if len(H) > len(L) :\n",
    "        print(\"%.1f\" % H[0])\n",
    "    else :\n",
    "        print(\"%.1f\" % ((H[0]-L[0])/2))"
   ]
  },
  {
   "cell_type": "markdown",
   "metadata": {},
   "source": [
    "## Q2. Connect n ropes with minimum cost \n"
   ]
  },
  {
   "cell_type": "code",
   "execution_count": 2,
   "metadata": {},
   "outputs": [
    {
     "name": "stdout",
     "output_type": "stream",
     "text": [
      "The minimum cost is 36\n"
     ]
    }
   ],
   "source": [
    "import heapq\n",
    "from heapq import heappush, heappop\n",
    "def findMinCost(prices):\n",
    "    heapq.heapify(prices)\n",
    "    cost = 0\n",
    "    while len(prices) > 1:\n",
    "        x = heappop(prices)\n",
    "        y = heappop(prices)\n",
    "        sum = x + y\n",
    "        heappush(prices, sum)\n",
    "        cost += sum\n",
    " \n",
    "    return cost\n",
    "prices = [5, 4, 2, 8]\n",
    "print(\"The minimum cost is\", findMinCost(prices))"
   ]
  },
  {
   "cell_type": "markdown",
   "metadata": {},
   "source": [
    "## Q3. LCA of BST "
   ]
  },
  {
   "cell_type": "code",
   "execution_count": 3,
   "metadata": {},
   "outputs": [
    {
     "name": "stdout",
     "output_type": "stream",
     "text": [
      "LCA is 10\n"
     ]
    }
   ],
   "source": [
    "class Node:\n",
    "    def __init__(self, data, left=None, right=None):\n",
    "        self.data = data\n",
    "        self.left = left\n",
    "        self.right = right\n",
    "def insert(root, key):\n",
    "    if root is None:\n",
    "        return Node(key)\n",
    "    if key < root.data:\n",
    "        root.left = insert(root.left, key)\n",
    "    else:\n",
    "        root.right = insert(root.right, key)\n",
    " \n",
    "    return root\n",
    "def search(root, key):\n",
    "    while root:\n",
    " \n",
    "        if key < root.data:\n",
    "            root = root.left\n",
    "        elif key > root.data:\n",
    "            root = root.right\n",
    "        else:\n",
    "            return True\n",
    "    return False\n",
    "def LCARecursive(root, x, y):\n",
    "    if root is None:\n",
    "        return None\n",
    "    if root.data > max(x, y):\n",
    "        return LCARecursive(root.left, x, y)\n",
    "    elif root.data < min(x, y):\n",
    "        return LCARecursive(root.right, x, y)\n",
    "    return root\n",
    "def LCA(root, x, y):\n",
    "    if root is None or not search(root, x) or not search(root, y):\n",
    "        return\n",
    "    lca = LCARecursive(root, x, y)\n",
    "    if lca:\n",
    "        print(\"LCA is\", lca.data)\n",
    "    else:\n",
    "        print(\"LCA does not exist\")\n",
    "\n",
    "keys = [15, 10, 20, 8, 12, 16, 25]\n",
    "\n",
    "root = None\n",
    "for key in keys:\n",
    "    root = insert(root, key)\n",
    "\n",
    "LCA(root, 8, 12)"
   ]
  },
  {
   "cell_type": "markdown",
   "metadata": {},
   "source": [
    "## Q4. Inorder Successor in BST"
   ]
  },
  {
   "cell_type": "code",
   "execution_count": 4,
   "metadata": {},
   "outputs": [
    {
     "name": "stdout",
     "output_type": "stream",
     "text": [
      "The successor of node 15 is 16\n",
      "The successor of node 10 is 12\n",
      "The successor of node 20 is 25\n",
      "The successor of node 8 is 10\n",
      "The successor of node 12 is 15\n",
      "The successor of node 16 is 20\n",
      "No Successor exists for node 25\n"
     ]
    }
   ],
   "source": [
    "class Node:\n",
    "    def __init__(self, data, left=None, right=None):\n",
    "        self.data = data\n",
    "        self.left = left\n",
    "        self.right = right\n",
    "def insert(root, key):\n",
    "    if root is None:\n",
    "        return Node(key)\n",
    "    if key < root.data:\n",
    "        root.left = insert(root.left, key)\n",
    "    else:\n",
    "        root.right = insert(root.right, key)\n",
    " \n",
    "    return root\n",
    "def findMinimum(root):\n",
    " \n",
    "    while root.left:\n",
    "        root = root.left\n",
    "    return root\n",
    "def findSuccessor(root, succ, key):\n",
    "    if root is None:\n",
    "        return None\n",
    "    if root.data == key:\n",
    "        if root.right:\n",
    "            return findMinimum(root.right)\n",
    "    elif key < root.data:\n",
    "        succ = root\n",
    "        return findSuccessor(root.left, succ, key)\n",
    "    else:\n",
    "        return findSuccessor(root.right, succ, key)\n",
    " \n",
    "    return succ\n",
    "\n",
    "keys = [15, 10, 20, 8, 12, 16, 25]\n",
    "\n",
    "root = None\n",
    "for key in keys:\n",
    "    root = insert(root, key)\n",
    "for key in keys:\n",
    "    prec = findSuccessor(root, None, key)\n",
    "\n",
    "    if prec:\n",
    "        print(\"The successor of node\", key, \"is\", prec.data)\n",
    "    else:\n",
    "        print(\"No Successor exists for node\", key)"
   ]
  },
  {
   "cell_type": "markdown",
   "metadata": {},
   "source": [
    "## Q5. Sorted Array to BST "
   ]
  },
  {
   "cell_type": "code",
   "execution_count": 5,
   "metadata": {},
   "outputs": [
    {
     "name": "stdout",
     "output_type": "stream",
     "text": [
      "4\n",
      "2\n",
      "1\n",
      "3\n",
      "6\n",
      "5\n",
      "7\n"
     ]
    }
   ],
   "source": [
    "class TreeNode(object):\n",
    "    def __init__(self, x):\n",
    "        self.val = x\n",
    "        self.left = None\n",
    "        self.right = None\n",
    "\n",
    "def sorted_array_to_bst(nums):\n",
    "    \n",
    "    if not nums:\n",
    "        return None\n",
    "    mid_val = len(nums)//2\n",
    "    node = TreeNode(nums[mid_val])\n",
    "    node.left = sorted_array_to_bst(nums[:mid_val])\n",
    "    node.right = sorted_array_to_bst(nums[mid_val+1:])\n",
    "    return node\n",
    "\n",
    "def preOrder(node): \n",
    "    if not node: \n",
    "        return      \n",
    "    print(node.val)\n",
    "    preOrder(node.left) \n",
    "    preOrder(node.right)   \n",
    "    \n",
    "result = sorted_array_to_bst([1, 2, 3, 4, 5, 6, 7])\n",
    "preOrder(result)\n"
   ]
  },
  {
   "cell_type": "markdown",
   "metadata": {},
   "source": [
    "## Q6. Print BST keys in the given range"
   ]
  },
  {
   "cell_type": "code",
   "execution_count": 7,
   "metadata": {},
   "outputs": [
    {
     "name": "stdout",
     "output_type": "stream",
     "text": [
      "12\n",
      "20\n",
      "22\n"
     ]
    }
   ],
   "source": [
    "class Node: \n",
    "    def __init__(self, data): \n",
    "        self.data = data \n",
    "        self.left = None\n",
    "        self.right = None \n",
    "def Print(root, k1, k2): \n",
    "    if root is None: \n",
    "        return  \n",
    "    if k1 < root.data : \n",
    "        Print(root.left, k1, k2) \n",
    "    if k1 <= root.data and k2 >= root.data: \n",
    "        print(root.data) \n",
    "    if k2 > root.data: \n",
    "        Print(root.right, k1, k2)\n",
    "k1 = 10 ; k2 = 25 ; \n",
    "root = Node(20) \n",
    "root.left = Node(8) \n",
    "root.right = Node(22) \n",
    "root.left.left = Node(4) \n",
    "root.left.right = Node(12) \n",
    "  \n",
    "Print(root, k1, k2) "
   ]
  },
  {
   "cell_type": "markdown",
   "metadata": {},
   "source": [
    "## Q7. Two Sum"
   ]
  },
  {
   "cell_type": "code",
   "execution_count": 8,
   "metadata": {},
   "outputs": [
    {
     "name": "stdout",
     "output_type": "stream",
     "text": [
      "[1, 2]\n"
     ]
    }
   ],
   "source": [
    "class Solution(object):\n",
    "    def twoSum(self, nums, target):\n",
    "        required = {}\n",
    "        for i in range(len(nums)):\n",
    "            if target - nums[i] in required:\n",
    "                return [required[target - nums[i]],i]\n",
    "            else:\n",
    "                required[nums[i]]=i\n",
    "input_list = [2,8,12,15]\n",
    "ob1 = Solution()\n",
    "print(ob1.twoSum(input_list, 20))"
   ]
  },
  {
   "cell_type": "markdown",
   "metadata": {},
   "source": [
    "## Q8. Length of the longest substring without repeating characters"
   ]
  },
  {
   "cell_type": "code",
   "execution_count": 16,
   "metadata": {},
   "outputs": [
    {
     "name": "stdout",
     "output_type": "stream",
     "text": [
      "11\n"
     ]
    }
   ],
   "source": [
    "def longest(word):\n",
    "    if not word: return 0\n",
    "\n",
    "    currentLength = 1\n",
    "    longest = 1\n",
    "    lastseen = {word[0] : 0}\n",
    "    i = 1\n",
    "\n",
    "    while i < len(word):\n",
    "        letter = word[i]\n",
    "        if letter in lastseen:\n",
    "            i = lastseen[letter] + 1\n",
    "            lastseen.clear()\n",
    "            longest = max(longest, currentLength)\n",
    "            currentLength = 0\n",
    "        else:\n",
    "            lastseen[letter] = i\n",
    "            currentLength += 1\n",
    "            i += 1\n",
    "\n",
    "    longest = max(longest, currentLength)\n",
    "\n",
    "    return longest\n",
    "word= 'hello this is string we have to find the longest diffrence'\n",
    "print(longest(word))"
   ]
  },
  {
   "cell_type": "markdown",
   "metadata": {},
   "source": [
    "## Q10. Longest Common Subsequence\n"
   ]
  },
  {
   "cell_type": "code",
   "execution_count": 1,
   "metadata": {},
   "outputs": [
    {
     "name": "stdout",
     "output_type": "stream",
     "text": [
      "S1 : ACADB\n",
      "S2 : CBDA\n",
      "LCS: CB\n"
     ]
    }
   ],
   "source": [
    "def lcs_algo(S1, S2, m, n):\n",
    "    L = [[0 for x in range(n+1)] for x in range(m+1)]\n",
    "    for i in range(m+1):\n",
    "        for j in range(n+1):\n",
    "            if i == 0 or j == 0:\n",
    "                L[i][j] = 0\n",
    "            elif S1[i-1] == S2[j-1]:\n",
    "                L[i][j] = L[i-1][j-1] + 1\n",
    "            else:\n",
    "                L[i][j] = max(L[i-1][j], L[i][j-1])\n",
    "\n",
    "    index = L[m][n]\n",
    "\n",
    "    lcs_algo = [\"\"] * (index+1)\n",
    "    lcs_algo[index] = \"\"\n",
    "\n",
    "    i = m\n",
    "    j = n\n",
    "    while i > 0 and j > 0:\n",
    "\n",
    "        if S1[i-1] == S2[j-1]:\n",
    "            lcs_algo[index-1] = S1[i-1]\n",
    "            i -= 1\n",
    "            j -= 1\n",
    "            index -= 1\n",
    "\n",
    "        elif L[i-1][j] > L[i][j-1]:\n",
    "            i -= 1\n",
    "        else:\n",
    "            j -= 1\n",
    "    print(\"S1 : \" + S1 + \"\\nS2 : \" + S2)\n",
    "    print(\"LCS: \" + \"\".join(lcs_algo))\n",
    "\n",
    "\n",
    "S1 = \"ACADB\"\n",
    "S2 = \"CBDA\"\n",
    "m = len(S1)\n",
    "n = len(S2)\n",
    "lcs_algo(S1, S2, m, n)"
   ]
  },
  {
   "cell_type": "markdown",
   "metadata": {},
   "source": [
    "## Q11. Edit Distance"
   ]
  },
  {
   "cell_type": "code",
   "execution_count": 2,
   "metadata": {},
   "outputs": [
    {
     "name": "stdout",
     "output_type": "stream",
     "text": [
      "3\n",
      "2\n"
     ]
    }
   ],
   "source": [
    "def edit_distance(string1, string2):\n",
    "\n",
    "    if len(string1) > len(string2):\n",
    "        difference = len(string1) - len(string2)\n",
    "        string1[:difference]\n",
    "\n",
    "    elif len(string2) > len(string1):\n",
    "        difference = len(string2) - len(string1)\n",
    "        string2[:difference]\n",
    "\n",
    "    else:\n",
    "        difference = 0\n",
    "\n",
    "    for i in range(len(string1)):\n",
    "        if string1[i] != string2[i]:\n",
    "            difference += 1\n",
    "\n",
    "    return difference\n",
    "\n",
    "print(edit_distance(\"kitten\", \"sitting\"))\n",
    "print(edit_distance(\"medium\", \"median\")) \n"
   ]
  },
  {
   "cell_type": "markdown",
   "metadata": {},
   "source": [
    "## Q12. Climbing Stairs\n"
   ]
  },
  {
   "cell_type": "code",
   "execution_count": 4,
   "metadata": {},
   "outputs": [
    {
     "name": "stdout",
     "output_type": "stream",
     "text": [
      "5\n"
     ]
    }
   ],
   "source": [
    "def climbStairs( n: int) -> int:\n",
    "        if n<=2: return n\n",
    "        dp = [0]*(n+1)\n",
    "        dp[1] = 1\n",
    "        dp[2] = 2\n",
    "        for i in range(3,n+1):\n",
    "            dp[i] = dp[i-1]+dp[i-2]\n",
    "        return dp[n]\n",
    "n=4\n",
    "print(climbStairs(n))\n"
   ]
  },
  {
   "cell_type": "markdown",
   "metadata": {},
   "source": [
    "## Q13.Min Jumps to reach end\n",
    " "
   ]
  },
  {
   "cell_type": "code",
   "execution_count": 6,
   "metadata": {},
   "outputs": [
    {
     "name": "stdout",
     "output_type": "stream",
     "text": [
      "9\n"
     ]
    }
   ],
   "source": [
    "l=[1,1,1,1,1,1,1,1,1,1]\n",
    "end = 0\n",
    "jumps = 0\n",
    "farthest = 0\n",
    "for i in range(len(l)-1):\n",
    "    farthest = max(farthest,i+l[i])\n",
    "    if(i==end):\n",
    "        jumps+= 1\n",
    "        end = farthest\n",
    "        \n",
    "print(jumps)"
   ]
  },
  {
   "cell_type": "markdown",
   "metadata": {},
   "source": [
    "## Q14. Maximum-sum-such-that-no-two-elements-are-adjacent\n"
   ]
  },
  {
   "cell_type": "code",
   "execution_count": 7,
   "metadata": {},
   "outputs": [
    {
     "name": "stdout",
     "output_type": "stream",
     "text": [
      "The maximum sum is 26\n"
     ]
    }
   ],
   "source": [
    "def maxSumSubseq(A):\n",
    "    n = len(A)\n",
    "    if n == 1:\n",
    "        return A[0]\n",
    "    lookup = [None] * n\n",
    "    lookup[0] = A[0]\n",
    "    lookup[1] = max(A[0], A[1])\n",
    "    for i in range(2, n):\n",
    "        lookup[i] = max(lookup[i - 1], lookup[i - 2] + A[i])\n",
    "        lookup[i] = max(lookup[i], A[i])\n",
    "    return lookup[n - 1]\n",
    "A = [1, 2, 9, 4, 5, 0, 4, 11, 6]\n",
    "print(\"The maximum sum is\", maxSumSubseq(A))"
   ]
  },
  {
   "cell_type": "markdown",
   "metadata": {},
   "source": [
    "## Q15. Longest palindromic subsequence"
   ]
  },
  {
   "cell_type": "code",
   "execution_count": 8,
   "metadata": {},
   "outputs": [
    {
     "name": "stdout",
     "output_type": "stream",
     "text": [
      "The length of the longest palindromic subsequence is 5\n"
     ]
    }
   ],
   "source": [
    "def longestPalindrome(X, i, j):\n",
    "    if i > j:\n",
    "        return 0\n",
    "    if i == j:\n",
    "        return 1\n",
    "    if X[i] == X[j]:\n",
    "        return longestPalindrome(X, i + 1, j - 1) + 2\n",
    "    return max(longestPalindrome(X, i, j - 1), longestPalindrome(X, i + 1, j))\n",
    " \n",
    "X = \"ABBDCACB\"\n",
    "n = len(X)\n",
    "\n",
    "print(\"The length of the longest palindromic subsequence is\",\n",
    "    longestPalindrome(X, 0, n - 1))"
   ]
  },
  {
   "cell_type": "markdown",
   "metadata": {},
   "source": [
    "## Q16. 0 - 1 Knapsack problem\n",
    " "
   ]
  },
  {
   "cell_type": "code",
   "execution_count": 9,
   "metadata": {},
   "outputs": [
    {
     "name": "stdout",
     "output_type": "stream",
     "text": [
      "Knapsack value is 60\n"
     ]
    }
   ],
   "source": [
    "def knapsack(v, w, n, W, lookup):\n",
    "    if W < 0:\n",
    "        return -9999999\n",
    "    if n < 0 or W == 0:\n",
    "        return 0\n",
    "    key = (n, W)\n",
    "    if key not in lookup:\n",
    "        include = v[n] + knapsack(v, w, n - 1, W - w[n], lookup)\n",
    "        exclude = knapsack(v, w, n - 1, W, lookup)\n",
    "        lookup[key] = max(include, exclude)\n",
    "    return lookup[key]\n",
    "v = [20, 5, 10, 40, 15, 25]\n",
    "w = [1, 2, 3, 8, 7, 4]\n",
    "W = 10\n",
    "lookup = {}\n",
    "print(\"Knapsack value is\", knapsack(v, w, len(v) - 1, W, lookup))"
   ]
  },
  {
   "cell_type": "markdown",
   "metadata": {},
   "source": [
    "## Q17. Min sum path in the matrix"
   ]
  },
  {
   "cell_type": "code",
   "execution_count": 13,
   "metadata": {},
   "outputs": [
    {
     "name": "stdout",
     "output_type": "stream",
     "text": [
      "7\n"
     ]
    }
   ],
   "source": [
    "def minPathSum(grid):\n",
    "    row = len(grid)-1\n",
    "    column = len(grid[0])-1\n",
    "    i=row-1\n",
    "    j=column-1\n",
    "    while j>=0:\n",
    "        grid[row][j]+=grid[row][j+1]\n",
    "        j-=1\n",
    "    while i>=0:\n",
    "        grid[i][column]+=grid[i+1][column]\n",
    "        i-=1\n",
    "    j=column-1\n",
    "    i = row-1\n",
    "    while i>=0:\n",
    "        while j>=0:\n",
    "            grid[i][j] += min(grid[i][j+1],grid[i+1][j])\n",
    "            j-=1\n",
    "        j=column-1\n",
    "        i-=1\n",
    "    return(grid[0][0])\n",
    "print(minPathSum([[1,3,1],[1,5,1],[4,2,1]]))"
   ]
  }
 ],
 "metadata": {
  "kernelspec": {
   "display_name": "Python 3",
   "language": "python",
   "name": "python3"
  },
  "language_info": {
   "codemirror_mode": {
    "name": "ipython",
    "version": 3
   },
   "file_extension": ".py",
   "mimetype": "text/x-python",
   "name": "python",
   "nbconvert_exporter": "python",
   "pygments_lexer": "ipython3",
   "version": "3.8.3"
  }
 },
 "nbformat": 4,
 "nbformat_minor": 4
}
