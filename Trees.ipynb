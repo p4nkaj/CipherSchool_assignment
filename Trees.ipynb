{
 "cells": [
  {
   "cell_type": "markdown",
   "metadata": {},
   "source": [
    "## Q1. Implement traversals Inorder, Preorder, PostOrder, LevelOrder"
   ]
  },
  {
   "cell_type": "code",
   "execution_count": 3,
   "metadata": {},
   "outputs": [
    {
     "name": "stdout",
     "output_type": "stream",
     "text": [
      "Inorder traversal \n",
      "4->2->5->1->3->\n",
      "Preorder traversal \n",
      "1->2->4->5->3->\n",
      "Postorder traversal \n",
      "4->5->2->3->1->\n",
      "level order traversal \n",
      "1->2->3->4->5->"
     ]
    }
   ],
   "source": [
    "class Node:\n",
    "    def __init__(self, item):\n",
    "        self.left = None\n",
    "        self.right = None\n",
    "        self.val = item\n",
    "\n",
    "def inorder(root):\n",
    "    if root:\n",
    "        inorder(root.left)\n",
    "        print(str(root.val) + \"->\", end='')\n",
    "        inorder(root.right)\n",
    "\n",
    "def postorder(root):\n",
    "    if root:\n",
    "        postorder(root.left)\n",
    "        postorder(root.right)\n",
    "        print(str(root.val) + \"->\", end='')\n",
    "\n",
    "def preorder(root):\n",
    "    if root:\n",
    "        print(str(root.val) + \"->\", end='')\n",
    "        preorder(root.left)\n",
    "        preorder(root.right)\n",
    "        \n",
    "def printLevel(root, level):\n",
    "    if root is None:\n",
    "        return False\n",
    "    if level == 1:\n",
    "        print(root.val, end='->')\n",
    "        return True\n",
    "    if level>1:\n",
    "        left = printLevel(root.left, level - 1)\n",
    "        right = printLevel(root.right, level - 1)\n",
    "        return left or right\n",
    "def levelOrder(root):\n",
    "    level = 1\n",
    "    while printLevel(root, level):\n",
    "        level = level + 1\n",
    "        \n",
    "\n",
    "root = Node(1)\n",
    "root.left = Node(2)\n",
    "root.right = Node(3)\n",
    "root.left.left = Node(4)\n",
    "root.left.right = Node(5)\n",
    "\n",
    "print(\"Inorder traversal \")\n",
    "inorder(root)\n",
    "\n",
    "print(\"\\nPreorder traversal \")\n",
    "preorder(root)\n",
    "\n",
    "print(\"\\nPostorder traversal \")\n",
    "postorder(root)\n",
    "\n",
    "print(\"\\nlevel order traversal \")\n",
    "levelOrder(root)"
   ]
  },
  {
   "cell_type": "markdown",
   "metadata": {},
   "source": [
    "## Q2.  Print Left/Right/Bottom/Top view of the Binary Tree "
   ]
  },
  {
   "cell_type": "code",
   "execution_count": 10,
   "metadata": {},
   "outputs": [
    {
     "name": "stdout",
     "output_type": "stream",
     "text": [
      "Top View:\n",
      "4 2 1 3 \n",
      "Bottom View:\n",
      "4 2 5 3 \n",
      "Left View:\n",
      "1 2 4 \n",
      "Right View:\n",
      "1 3 5 "
     ]
    }
   ],
   "source": [
    "class Node:\n",
    "    def __init__(self, key=None, left=None, right=None):\n",
    "        self.key = key\n",
    "        self.left = left\n",
    "        self.right = right\n",
    "###########################################################################################\n",
    "def printBottom(root, dist, level, dict):\n",
    "    if root is None:\n",
    "        return\n",
    "    if dist not in dict or level >= dict[dist][1]:\n",
    "        dict[dist] = (root.key, level)\n",
    "    printBottom(root.left, dist - 1, level + 1, dict)\n",
    "    printBottom(root.right, dist + 1, level + 1, dict)\n",
    "def BottomView(root):\n",
    "    dict = {}\n",
    "    printBottom(root, 0, 0, dict)\n",
    "    for key in sorted(dict.keys()):\n",
    "        print(dict.get(key)[0], end=' ')\n",
    "        \n",
    "#############################################################################################\n",
    "def printTop(root, dist, level, dict):\n",
    "    if root is None:\n",
    "        return\n",
    "    if dist not in dict or level < dict[dist][1]:\n",
    "        dict[dist] = (root.key, level)\n",
    "    printTop(root.left, dist - 1, level + 1, dict)\n",
    "    printTop(root.right, dist + 1, level + 1, dict)\n",
    "def TopView(root):\n",
    "    dict = {}\n",
    "    printTop(root, 0, 0, dict)\n",
    "    for key in sorted(dict.keys()):\n",
    "        print(dict.get(key)[0], end=' ')\n",
    "\n",
    "############################################################################################\n",
    "def printleft(root, level, dict):\n",
    "    if root is None:\n",
    "        return\n",
    "    if level not in dict:\n",
    "        dict[level] = root.key\n",
    " \n",
    "    printleft(root.left, level + 1, dict)\n",
    "    printleft(root.right, level + 1, dict)\n",
    "def LeftView(root):\n",
    "    dict = {}\n",
    "    printleft(root, 1, dict)\n",
    "    for i in range(1, len(dict) + 1):\n",
    "        print(dict[i], end=' ')\n",
    "\n",
    "#############################################################################################\n",
    "def printRight(root, level, dict):\n",
    "    if root is None:\n",
    "        return\n",
    "    dict[level] = root.key\n",
    "    printRight(root.left, level + 1, dict)\n",
    "    printRight(root.right, level + 1, dict)\n",
    "def RightView(root):\n",
    "    dict = {}\n",
    "    printRight(root, 1, dict)\n",
    "    x=list(dict.values())\n",
    "    for i in x:\n",
    "        print(i,end=' ')\n",
    "#############################################################################################\n",
    "        \n",
    "root = Node(1)\n",
    "root.left = Node(2)\n",
    "root.right = Node(3)\n",
    "root.left.left = Node(4)\n",
    "root.left.right = Node(5)\n",
    "print('Top View:')\n",
    "TopView(root)\n",
    "print('\\nBottom View:')\n",
    "BottomView(root)\n",
    "print('\\nLeft View:')\n",
    "LeftView(root)\n",
    "print('\\nRight View:')\n",
    "RightView(root)\n"
   ]
  },
  {
   "cell_type": "markdown",
   "metadata": {},
   "source": [
    "## Q3.  Construct tree from inorder and preorder traversal "
   ]
  },
  {
   "cell_type": "code",
   "execution_count": 19,
   "metadata": {},
   "outputs": [
    {
     "name": "stdout",
     "output_type": "stream",
     "text": [
      "The inorder traversal is \n",
      "\n",
      "\n",
      "\n",
      "4 \n",
      "2 \n",
      "1 \n",
      "\n",
      "\n",
      "\n",
      "7 \n",
      "5 \n",
      "\n",
      "8 \n",
      "3 \n",
      "\n",
      "6 \n",
      "\n",
      "The preorder traversal is \n",
      "1 \n",
      "2 \n",
      "4 \n",
      "\n",
      "\n",
      "\n",
      "3 \n",
      "5 \n",
      "7 \n",
      "\n",
      "\n",
      "8 \n",
      "\n",
      "\n",
      "6 \n",
      "\n"
     ]
    }
   ],
   "source": [
    "class Node:\n",
    "    def __init__(self, data, left=None, right=None):\n",
    "        self.data = data\n",
    "        self.left = left\n",
    "        self.right = right\n",
    "def inorderTraversal(root):\n",
    "    if root is None:\n",
    "        return\n",
    " \n",
    "    inorderTraversal(root.left)\n",
    "    print(root.data, end=' ')\n",
    "    inorderTraversal(root.right)\n",
    "def preorderTraversal(root):\n",
    "    if root is None:\n",
    "        return\n",
    "    print(root.data,end=' ')\n",
    "    preorderTraversal(root.left)\n",
    "    preorderTraversal(root.right)\n",
    "def construct(start, end, preorder, pIndex, dict):\n",
    "    if start > end:\n",
    "        return None, pIndex\n",
    "    root = Node(preorder[pIndex])\n",
    "    pIndex = pIndex + 1\n",
    "    index = dict[root.data]\n",
    "    root.left, pIndex = construct(start, index - 1, preorder, pIndex, dict)\n",
    "    root.right, pIndex = construct(index + 1, end, preorder, pIndex, dict)\n",
    "    return root, pIndex\n",
    "def constructTree(inorder, preorder):\n",
    "    dict = {}\n",
    "    for i, e in enumerate(inorder):\n",
    "        dict[e] = i\n",
    "    pIndex = 0\n",
    " \n",
    "    return construct(0, len(inorder) - 1, preorder, pIndex, dict)[0]\n",
    "inorder = [4, 2, 1, 7, 5, 8, 3, 6]\n",
    "preorder = [1, 2, 4, 3, 5, 7, 8, 6]\n",
    "\n",
    "root = constructTree(inorder, preorder)\n",
    "print(\"The inorder traversal is \", end='')\n",
    "inorderTraversal(root)\n",
    "\n",
    "print(\"\\nThe preorder traversal is \", end='')\n",
    "preorderTraversal(root)"
   ]
  },
  {
   "cell_type": "markdown",
   "metadata": {},
   "source": [
    "## Q4. LCA of Binary Tree \n"
   ]
  },
  {
   "cell_type": "code",
   "execution_count": 20,
   "metadata": {},
   "outputs": [
    {
     "name": "stdout",
     "output_type": "stream",
     "text": [
      "LCA is 3\n",
      "LCA does not exist\n",
      "LCA is 7\n",
      "LCA is 5\n",
      "LCA is 1\n"
     ]
    }
   ],
   "source": [
    "class Node:\n",
    "    def __init__(self, data, left=None, right=None):\n",
    "        self.data = data\n",
    "        self.left = left\n",
    "        self.right = right\n",
    "def isNodePresent(root, node):\n",
    "    if root is None:\n",
    "        return False\n",
    "    if root == node:\n",
    "        return True\n",
    "    return isNodePresent(root.left, node) or isNodePresent(root.right, node)\n",
    "def findlca(root, lca, x, y):\n",
    "    if root is None:\n",
    "        return False, lca\n",
    "    if root == x or root == y:\n",
    "        return True, root\n",
    "    left, lca = findlca(root.left, lca, x, y)\n",
    "    right, lca = findlca(root.right, lca, x, y)\n",
    "    if left and right:\n",
    "        lca = root\n",
    "    return (left or right), lca\n",
    "def findLCA(root, x, y):\n",
    "    lca = None\n",
    "    if isNodePresent(root, y) and isNodePresent(root, x):\n",
    "        lca = findlca(root, lca, x, y)[1]\n",
    "    if lca:\n",
    "        print(\"LCA is\", lca.data)\n",
    "    else:\n",
    "        print(\"LCA does not exist\")\n",
    "\n",
    "root = Node(1)\n",
    "root.left = Node(2)\n",
    "root.right = Node(3)\n",
    "root.left.right = Node(4)\n",
    "root.right.left = Node(5)\n",
    "root.right.right = Node(6)\n",
    "root.right.left.left = Node(7)\n",
    "root.right.right.right = Node(8)\n",
    "\n",
    "findLCA(root, root.right.left.left, root.right.right)\n",
    "findLCA(root, root.right.left.left, Node(10))\n",
    "findLCA(root, root.right.left.left, root.right.left.left)\n",
    "findLCA(root, root.right.left.left, root.right.left)\n",
    "findLCA(root, root.left, root.right.left)"
   ]
  },
  {
   "cell_type": "markdown",
   "metadata": {},
   "source": [
    "## Q5. Diameter of Binary Tree"
   ]
  },
  {
   "cell_type": "code",
   "execution_count": 21,
   "metadata": {},
   "outputs": [
    {
     "name": "stdout",
     "output_type": "stream",
     "text": [
      "The diameter of the tree is 6\n"
     ]
    }
   ],
   "source": [
    "class Node:\n",
    "    def __init__(self, data, left=None, right=None):\n",
    "        self.data = data\n",
    "        self.left = left\n",
    "        self.right = right\n",
    "def getDiameter(root, diameter):\n",
    "    if root is None:\n",
    "        return 0, diameter\n",
    "    left_height, diameter = getDiameter(root.left, diameter)\n",
    "    right_height, diameter = getDiameter(root.right, diameter)\n",
    "    max_diameter = left_height + right_height + 1\n",
    "    diameter = max(diameter, max_diameter)\n",
    "    return max(left_height, right_height) + 1, diameter\n",
    " \n",
    "def getBTDiameter(root):\n",
    "    diameter = 0\n",
    "    return getDiameter(root, diameter)[1]\n",
    "root = Node(1)\n",
    "root.left = Node(2)\n",
    "root.right = Node(3)\n",
    "root.left.right = Node(4)\n",
    "root.right.left = Node(5)\n",
    "root.right.right = Node(6)\n",
    "root.right.left.left = Node(7)\n",
    "root.right.left.right = Node(8)\n",
    "print(\"The diameter of the tree is\", getBTDiameter(root))"
   ]
  },
  {
   "cell_type": "markdown",
   "metadata": {},
   "source": [
    "## Q6. Max Sum path from the leaf to leaf.\n"
   ]
  },
  {
   "cell_type": "code",
   "execution_count": 23,
   "metadata": {},
   "outputs": [
    {
     "name": "stdout",
     "output_type": "stream",
     "text": [
      "The maximum path sum is 15\n"
     ]
    }
   ],
   "source": [
    "class Node:\n",
    "    def __init__(self, data, left=None, right=None):\n",
    "        self.data = data\n",
    "        self.left = left\n",
    "        self.right = right\n",
    "def findMaxPathSum(node, result=-100):\n",
    "    if node is None:\n",
    "        return 0, result\n",
    "    left, result = findMaxPathSum(node.left, result)\n",
    "    right, result = findMaxPathSum(node.right, result)\n",
    "    result = max(result, node.data)\n",
    "    result = max(result, node.data + left)\n",
    "    result = max(result, node.data + right)\n",
    "    result = max(result, node.data + left + right)\n",
    "    return max(node.data, node.data + max(left, right)), result\n",
    " \n",
    "root = Node(1)\n",
    "root.left = Node(2)\n",
    "root.right = Node(10)\n",
    "root.left.left = Node(-1)\n",
    "root.left.right = Node(-4)\n",
    "root.right.left = Node(-5)\n",
    "root.right.right = Node(-6)\n",
    "root.left.right.left = Node(4)\n",
    "root.right.left.left = Node(7)\n",
    "root.right.left.right = Node(4)\n",
    "root.right.left.left.right = Node(-2)\n",
    "\n",
    "print('The maximum path sum is', findMaxPathSum(root)[1])"
   ]
  },
  {
   "cell_type": "markdown",
   "metadata": {},
   "source": [
    "## Q7. Connect Nodes on the same level"
   ]
  },
  {
   "cell_type": "code",
   "execution_count": 24,
   "metadata": {},
   "outputs": [
    {
     "name": "stdout",
     "output_type": "stream",
     "text": [
      "Right Node doesn't exist\n",
      "Right Node is 3\n",
      "Right Node doesn't exist\n",
      "Right Node is 5\n",
      "Right Node is 6\n",
      "Right Node doesn't exist\n",
      "Right Node is 8\n",
      "Right Node doesn't exist\n"
     ]
    }
   ],
   "source": [
    "class Node:\n",
    "    def __init__(self, data=None, left=None, right=None):\n",
    "        self.data = data\n",
    "        self.left = left\n",
    "        self.right = right\n",
    "def findRightNode(root, value, level, value_level):\n",
    "    if root is None:\n",
    "        return None, value_level\n",
    "    if root.data == value:\n",
    "        return None, level\n",
    "    elif value_level:\n",
    "        if level == value_level:\n",
    "            return root, level\n",
    "    left, value_level = findRightNode(root.left, value, level + 1, value_level)\n",
    "    if left:\n",
    "        return left, value_level\n",
    "    return findRightNode(root.right, value, level + 1, value_level)\n",
    "def findRightNodeBT(root, value):\n",
    " \n",
    "    value_level = 0\n",
    "    return findRightNode(root, value, 1, value_level)[0]\n",
    "def check(root,val):\n",
    "    right = findRightNodeBT(root, val)\n",
    "    if right:\n",
    "        print(\"Right Node is\", right.data)\n",
    "    else:\n",
    "        print(\"Right Node doesn't exist\")\n",
    "\n",
    "root = Node(1)\n",
    "root.left = Node(2)\n",
    "root.right = Node(3)\n",
    "root.left.left = Node(4)\n",
    "root.left.right = Node(5)\n",
    "root.right.left = Node(6)\n",
    "root.right.left.left = Node(7)\n",
    "root.right.left.right = Node(8)\n",
    "\n",
    "check(root,1)\n",
    "check(root,2)\n",
    "check(root,3)\n",
    "check(root,4)\n",
    "check(root,5)\n",
    "check(root,6)\n",
    "check(root,7)\n",
    "check(root,8)\n",
    "\n"
   ]
  },
  {
   "cell_type": "markdown",
   "metadata": {},
   "source": [
    "## Q8.  Convert each level in Binary Tree to Doubly LinkedList"
   ]
  },
  {
   "cell_type": "code",
   "execution_count": 1,
   "metadata": {},
   "outputs": [
    {
     "name": "stdout",
     "output_type": "stream",
     "text": [
      "1 —> 2 —> 3 —> 7 —> 6 —> 5 —> 4 —> None\n"
     ]
    }
   ],
   "source": [
    "from collections import deque\n",
    "class Node:\n",
    "    def __init__(self, key, left=None, right=None):\n",
    "        self.key = key\n",
    "        self.left = left\n",
    "        self.right = right\n",
    "def printDoublyLinkedList(node):\n",
    " \n",
    "    while node:\n",
    "        print(node.key, end=\" —> \")\n",
    "        node = node.right\n",
    "    print(\"None\")\n",
    "def push(node, head):\n",
    "    if head is None:\n",
    "        head = node\n",
    "        head.left = head.right = None\n",
    "        return head\n",
    "    head.left = node\n",
    "    node.right = head\n",
    "    node.left = None\n",
    "    head = node\n",
    "    return head\n",
    "def preorder(root, level, dict):\n",
    "    if root is None:\n",
    "        return\n",
    "    if (level & 1) == 1:\n",
    "        dict.setdefault(level, deque()).appendleft(root)\n",
    "    else:\n",
    "        dict.setdefault(level, deque()).append(root)\n",
    "    preorder(root.left, level + 1, dict)\n",
    "    preorder(root.right, level + 1, dict)\n",
    "def convert(root, head):\n",
    "    dict = {}\n",
    "    preorder(root, 0, dict)\n",
    "    n = len(dict)\n",
    "    for i in reversed(range(n)):\n",
    "        for node in dict[i]:\n",
    "            head = push(node, head)\n",
    " \n",
    "    return head\n",
    " \n",
    "root = Node(1)\n",
    "root.left = Node(2)\n",
    "root.right = Node(3)\n",
    "root.left.left = Node(4)\n",
    "root.left.right = Node(5)\n",
    "root.right.left = Node(6)\n",
    "root.right.right = Node(7)\n",
    "\n",
    "head = None\n",
    "head = convert(root, head)\n",
    "printDoublyLinkedList(head)"
   ]
  },
  {
   "cell_type": "markdown",
   "metadata": {},
   "source": [
    "## Q9. Print root to leaf path in Binary tree"
   ]
  },
  {
   "cell_type": "code",
   "execution_count": 3,
   "metadata": {},
   "outputs": [
    {
     "name": "stdout",
     "output_type": "stream",
     "text": [
      "[1, 2, 4]\n",
      "[1, 2, 5]\n",
      "[1, 3, 6, 8]\n",
      "[1, 3, 7, 9]\n"
     ]
    }
   ],
   "source": [
    "from collections import deque\n",
    "class Node:\n",
    "    def __init__(self, data, left=None, right=None):\n",
    "        self.data = data\n",
    "        self.left = left\n",
    "        self.right = right\n",
    "def isLeaf(node):\n",
    "    return node.left is None and node.right is None\n",
    "def printRootToLeafPaths(node, path):\n",
    "    if node is None:\n",
    "        return\n",
    "    path.append(node.data)\n",
    "    if isLeaf(node):\n",
    "        print(list(path))\n",
    "    printRootToLeafPaths(node.left, path)\n",
    "    printRootToLeafPaths(node.right, path)\n",
    "    path.pop()\n",
    "def printRootToLeafPath(node):\n",
    "    path = deque()\n",
    "    printRootToLeafPaths(node, path)\n",
    "root = Node(1)\n",
    "root.left = Node(2)\n",
    "root.right = Node(3)\n",
    "root.left.left = Node(4)\n",
    "root.left.right = Node(5)\n",
    "root.right.left = Node(6)\n",
    "root.right.right = Node(7)\n",
    "root.right.left.left = Node(8)\n",
    "root.right.right.right = Node(9)\n",
    "printRootToLeafPath(root)"
   ]
  },
  {
   "cell_type": "markdown",
   "metadata": {},
   "source": [
    "## Q10. Print all nodes at K distance"
   ]
  },
  {
   "cell_type": "code",
   "execution_count": 6,
   "metadata": {},
   "outputs": [
    {
     "name": "stdout",
     "output_type": "stream",
     "text": [
      "4 5 6 "
     ]
    }
   ],
   "source": [
    "class Node:\n",
    "    def __init__(self, data): \n",
    "        self.data = data \n",
    "        self.left = None\n",
    "        self.right = None\n",
    "def printKDistant(root, k): \n",
    "    if root is None: \n",
    "        return \n",
    "    if k == 0: \n",
    "        print(root.data,end=' ') \n",
    "    else: \n",
    "        printKDistant(root.left, k-1) \n",
    "        printKDistant(root.right, k-1) \n",
    "\n",
    "root = Node(1) \n",
    "root.left = Node(2) \n",
    "root.right = Node(3) \n",
    "root.left.left = Node(4) \n",
    "root.left.right = Node(5) \n",
    "root.right.left = Node(6) \n",
    "  \n",
    "printKDistant(root, 2) "
   ]
  },
  {
   "cell_type": "markdown",
   "metadata": {},
   "source": [
    "## Q11. Find Largest Subtree sum in Binary Tree"
   ]
  },
  {
   "cell_type": "code",
   "execution_count": 9,
   "metadata": {},
   "outputs": [
    {
     "name": "stdout",
     "output_type": "stream",
     "text": [
      "7\n"
     ]
    }
   ],
   "source": [
    "class Node: \n",
    "    def __init__(self, key): \n",
    "        self.key = key  \n",
    "        self.left = self.right = None\n",
    "def add(root, ans):  \n",
    "    if (root == None):  \n",
    "        return 0  \n",
    "    currSum = (root.key + \n",
    "               add(root.left, ans) + \n",
    "               add(root.right, ans))  \n",
    "    ans[0] = max(ans[0], currSum) \n",
    "    return currSum   \n",
    "def maxsum(root):\n",
    "    if (root == None):      \n",
    "        return 0 \n",
    "    ans = [-999999999999]  \n",
    "    add(root, ans)  \n",
    "  \n",
    "    return ans[0]\n",
    "root = Node(1)  \n",
    "root.left = Node(-2)  \n",
    "root.right = Node(3)  \n",
    "root.left.left = Node(4)  \n",
    "root.left.right = Node(5)  \n",
    "root.right.left = Node(-6)  \n",
    "root.right.right = Node(2)  \n",
    "\n",
    "print(maxsum(root)) "
   ]
  },
  {
   "cell_type": "markdown",
   "metadata": {},
   "source": [
    "## Q12. Construct tree from inorder and postorder traversal  "
   ]
  },
  {
   "cell_type": "code",
   "execution_count": 13,
   "metadata": {},
   "outputs": [
    {
     "name": "stdout",
     "output_type": "stream",
     "text": [
      "Inorder traversal is \n",
      "\n",
      "\n",
      "\n",
      "4 \n",
      "2 \n",
      "1 \n",
      "\n",
      "\n",
      "\n",
      "7 \n",
      "5 \n",
      "\n",
      "8 \n",
      "3 \n",
      "\n",
      "6 \n",
      "\n",
      "Postorder traversal is \n",
      "\n",
      "\n",
      "\n",
      "\n",
      "4 \n",
      "2 \n",
      "\n",
      "\n",
      "\n",
      "\n",
      "7 \n",
      "\n",
      "\n",
      "8 5 \n",
      "\n",
      "\n",
      "6 3 1 "
     ]
    }
   ],
   "source": [
    "class Node:\n",
    "    def __init__(self, key):\n",
    "        self.key = key\n",
    "def inorderTraversal(root):\n",
    "    print()\n",
    "    if root is None:\n",
    "        return\n",
    " \n",
    "    inorderTraversal(root.left)\n",
    "    print(root.key, end=' ')\n",
    "    inorderTraversal(root.right)\n",
    "def postorderTraversal(root):\n",
    "    print()\n",
    "    if root is None:\n",
    "        return\n",
    " \n",
    "    postorderTraversal(root.left)\n",
    "    postorderTraversal(root.right)\n",
    "    print(root.key, end=' ')\n",
    "def construct(start, end, postorder, pIndex, dict):\n",
    "    if start > end:\n",
    "        return None, pIndex\n",
    "    root = Node(postorder[pIndex])\n",
    "    pIndex = pIndex - 1\n",
    "    index = dict[root.key]\n",
    "    root.right, pIndex = construct(index + 1, end, postorder, pIndex, dict)\n",
    "    root.left, pIndex = construct(start, index - 1, postorder, pIndex, dict)\n",
    "    return root, pIndex\n",
    "def constructTree(inorder, postorder):\n",
    "    n = len(inorder)\n",
    "    dict = {}\n",
    "    for i, e in enumerate(inorder):\n",
    "        dict[e] = i\n",
    "    pIndex = n - 1\n",
    "    return construct(0, n - 1, postorder, pIndex, dict)[0]\n",
    "\n",
    "\n",
    "inorder = [4, 2, 1, 7, 5, 8, 3, 6]\n",
    "postorder = [4, 2, 7, 8, 5, 6, 3, 1]\n",
    "\n",
    "root = constructTree(inorder, postorder)\n",
    "print(\"Inorder traversal is \", end='')\n",
    "inorderTraversal(root)\n",
    "\n",
    "print(\"\\nPostorder traversal is \", end='')\n",
    "postorderTraversal(root)"
   ]
  },
  {
   "cell_type": "markdown",
   "metadata": {},
   "source": [
    "## Q13. Check if a binary tree is a BST or not\n",
    " "
   ]
  },
  {
   "cell_type": "code",
   "execution_count": 16,
   "metadata": {},
   "outputs": [
    {
     "name": "stdout",
     "output_type": "stream",
     "text": [
      "The tree is not a BST!\n"
     ]
    }
   ],
   "source": [
    "class Node:\n",
    "    def __init__(self, data, left=None, right=None):\n",
    "        self.data = data\n",
    "        self.left = left\n",
    "        self.right = right\n",
    "def insert(root, key):\n",
    "    if root is None:\n",
    "        return Node(key)\n",
    "    if key < root.data:\n",
    "        root.left = insert(root.left, key)\n",
    "    else:\n",
    "        root.right = insert(root.right, key)\n",
    " \n",
    "    return root\n",
    "def isBST(root, prev):\n",
    "    if root is None:\n",
    "        return True\n",
    "    left = isBST(root.left, prev)\n",
    "    if root.data <= prev.data:\n",
    "        return False\n",
    "    prev.data = root.data\n",
    "    return left and isBST(root.right, prev)\n",
    "def isbst(node):\n",
    "    prev = Node(-999999999999)\n",
    "    if isBST(node, prev):\n",
    "        print(\"The tree is a BST!\")\n",
    "    else:\n",
    "        print(\"The tree is not a BST!\")\n",
    " \n",
    " \n",
    "def swap(root):\n",
    " \n",
    "    left = root.left\n",
    "    root.left = root.right\n",
    "    root.right = left\n",
    " \n",
    " \n",
    "root = None\n",
    "keys = [15, 10, 20, 8, 12, 16, 25]\n",
    "\n",
    "for key in keys:\n",
    "    root = insert(root, key)\n",
    "swap(root)\n",
    "isbst(root)"
   ]
  },
  {
   "cell_type": "markdown",
   "metadata": {},
   "source": [
    "## Q14. Check if 2 trees are mirror of each other"
   ]
  },
  {
   "cell_type": "code",
   "execution_count": 17,
   "metadata": {},
   "outputs": [
    {
     "name": "stdout",
     "output_type": "stream",
     "text": [
      "Yes, trees are mirror.\n"
     ]
    }
   ],
   "source": [
    "class Node:\n",
    "    def __init__(self,data):\n",
    "        self.data = data\n",
    "        self.left = None\n",
    "        self.right = None\n",
    "def check_mirror(x,y):\n",
    "    if x is None and y is None:\n",
    "        return True\n",
    "    if x is None or y is None:\n",
    "        return False\n",
    "\n",
    "    return (x.data == y.data and\n",
    "            check_mirror(x.left,y.right) and\n",
    "            check_mirror(x.right,y.left))\n",
    "tree1 = Node(9)\n",
    "tree2 = Node(9)\n",
    "\n",
    "tree1.left = Node(8)\n",
    "tree1.right = Node(7)\n",
    "tree1.left.left = Node(6)\n",
    "tree1.left.right = Node(5)\n",
    "\n",
    "tree2.left = Node(7)\n",
    "tree2.right = Node(8)\n",
    "tree2.right.left = Node(5)\n",
    "tree2.right.right = Node(6)\n",
    "\n",
    "if check_mirror(tree1,tree2):\n",
    "    print(\"Yes, trees are mirror.\")\n",
    "else:\n",
    "    print(\"They are not mirrors.\")"
   ]
  }
 ],
 "metadata": {
  "kernelspec": {
   "display_name": "Python 3",
   "language": "python",
   "name": "python3"
  },
  "language_info": {
   "codemirror_mode": {
    "name": "ipython",
    "version": 3
   },
   "file_extension": ".py",
   "mimetype": "text/x-python",
   "name": "python",
   "nbconvert_exporter": "python",
   "pygments_lexer": "ipython3",
   "version": "3.8.3"
  }
 },
 "nbformat": 4,
 "nbformat_minor": 4
}
